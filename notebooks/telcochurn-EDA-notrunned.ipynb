{
 "cells": [
  {
   "cell_type": "markdown",
   "id": "83eb6e6e-94f0-480e-b6b6-8a2d2d44d0d4",
   "metadata": {
    "id": "83eb6e6e-94f0-480e-b6b6-8a2d2d44d0d4"
   },
   "source": [
    "# **Telco Customer Churn**"
   ]
  },
  {
   "cell_type": "markdown",
   "id": "bQq8JoSp4Txt",
   "metadata": {
    "id": "bQq8JoSp4Txt"
   },
   "source": [
    "This notebook works with a dataset of a fictional telco company that provides home phone and internet services. It indicates which customers have left (churned), stayed or signed up for their service in the last month, and several features about them."
   ]
  },
  {
   "cell_type": "markdown",
   "id": "LA7xUp3i8XgH",
   "metadata": {
    "id": "LA7xUp3i8XgH"
   },
   "source": [
    "The original dataset is provided by IBM Cognos Analytics, and it consist in five .xlsx files (demographics, population, location, services and status). Each table is described below."
   ]
  },
  {
   "cell_type": "markdown",
   "id": "9CiFM_6C9Azx",
   "metadata": {
    "id": "9CiFM_6C9Azx"
   },
   "source": [
    "## **Demographics**"
   ]
  },
  {
   "cell_type": "markdown",
   "id": "5zhoEVcs85fs",
   "metadata": {
    "id": "5zhoEVcs85fs"
   },
   "source": [
    "- CustomerID: A unique ID that identifies each customer.\n",
    "- Count: A value used in reporting/dashboarding to sum up the number of customers in a filtered set.\n",
    "- Gender: The customer’s gender: Male, Female.\n",
    "- Age: The customer’s current age, in years, at the time the fiscal quarter ended.\n",
    "- Under 30: Indicates if the customer is younger than 30: Yes, No.\n",
    "- Senior Citizen: Indicates if the customer is 65 or older: Yes, No.\n",
    "- Married: Indicates if the customer is married: Yes, No.\n",
    "- Dependents: Indicates if the customer lives with any dependents: Yes, No. Dependents could be children, parents, grandparents, etc.\n",
    "- Number of Dependents: Indicates the number of dependents that live with the customer."
   ]
  },
  {
   "cell_type": "markdown",
   "id": "HTSzmilK-hOI",
   "metadata": {
    "id": "HTSzmilK-hOI"
   },
   "source": [
    "## **Location**"
   ]
  },
  {
   "cell_type": "markdown",
   "id": "Cs2QwrbF_Acd",
   "metadata": {
    "id": "Cs2QwrbF_Acd"
   },
   "source": [
    "- CustomerID: A unique ID that identifies each customer.\n",
    "- Count: A value used in reporting/dashboarding to sum up the number of customers in a filtered set.\n",
    "- Country: The country of the customer’s primary residence.\n",
    "- State: The state of the customer’s primary residence.\n",
    "- City: The city of the customer’s primary residence.\n",
    "- Zip Code: The zip code of the customer’s primary residence.\n",
    "- Lat Long: The combined latitude and longitude of the customer’s primary residence.\n",
    "- Latitude: The latitude of the customer’s primary residence.\n",
    "- Longitude: The longitude of the customer’s primary residence."
   ]
  },
  {
   "cell_type": "markdown",
   "id": "8Qs1uyes-4lA",
   "metadata": {
    "id": "8Qs1uyes-4lA"
   },
   "source": [
    "## **Population**"
   ]
  },
  {
   "cell_type": "markdown",
   "id": "lG7bZpyP-tho",
   "metadata": {
    "id": "lG7bZpyP-tho"
   },
   "source": [
    "- ID: A unique ID that identifies each row.\n",
    "- Zip Code: The zip code of the customer’s primary residence.\n",
    "- Population: A current population estimate for the entire Zip Code area."
   ]
  },
  {
   "cell_type": "markdown",
   "id": "KAkZW_74_cz4",
   "metadata": {
    "id": "KAkZW_74_cz4"
   },
   "source": [
    "## **Services**"
   ]
  },
  {
   "cell_type": "markdown",
   "id": "EhqYBmXA_iiI",
   "metadata": {
    "id": "EhqYBmXA_iiI"
   },
   "source": [
    "- CustomerID: A unique ID that identifies each customer.\n",
    "- Count: A value used in reporting/dashboarding to sum up the number of customers in a filtered set.\n",
    "- Quarter: The fiscal quarter that the data has been derived from (e.g. Q3).\n",
    "- Referred a Friend: Indicates if the customer has ever referred a friend or family member to this company: Yes, No.\n",
    "- Number of Referrals: Indicates the number of referrals to date that the customer has made.\n",
    "- Tenure in Months: Indicates the total amount of months that the customer has been with the company by the end of the quarter specified above.\n",
    "- Offer: Identifies the last marketing offer that the customer accepted, if applicable. Values include None, Offer A, Offer B, Offer C, Offer D, and Offer E.\n",
    "- Phone Service: Indicates if the customer subscribes to home phone service with the company: Yes, No.\n",
    "- Avg Monthly Long Distance Charges: Indicates the customer’s average long distance charges, calculated to the end of the quarter specified above.\n",
    "- Multiple Lines: Indicates if the customer subscribes to multiple telephone lines with the company: Yes, No.\n",
    "- Internet Service: Indicates if the customer subscribes to Internet service with the company: Yes, No.\n",
    "- Internet Type: Indicates which type of Internet service the customer suscribes to: None, DSL, Fiber Optic, Cable.\n",
    "- Avg Monthly GB Download: Indicates the customer’s average download volume in gigabytes, calculated to the end of the quarter specified above.\n",
    "- Online Security: Indicates if the customer subscribes to an additional online security service provided by the company: Yes, No\n",
    "- Online Backup: Indicates if the customer subscribes to an additional online backup service provided by the company: Yes, No.\n",
    "- Device Protection Plan: Indicates if the customer subscribes to an additional device protection plan for their Internet equipment provided by the company: Yes, No.\n",
    "- Premium Tech Support: Indicates if the customer subscribes to an additional technical support plan from the company with reduced wait times: Yes, No.\n",
    "- Streaming TV: Indicates if the customer uses their Internet service to stream television programing from a third party provider: Yes, No. The company does not charge an additional fee for this service.\n",
    "- Streaming Movies: Indicates if the customer uses their Internet service to stream movies from a third party provider: Yes, No. The company does not charge an additional fee for this service.\n",
    "- Streaming Music: Indicates if the customer uses their Internet service to stream music from a third party provider: Yes, No. The company does not charge an additional fee for this service.\n",
    "- Unlimited Data: Indicates if the customer has paid an additional monthly fee to have unlimited data downloads/uploads: Yes, No.\n",
    "- Contract: Indicates the customer’s current contract type: Month-to-Month, One Year, Two Year.\n",
    "- Paperless Billing: Indicates if the customer has chosen paperless billing: Yes, No.\n",
    "- Payment Method: Indicates how the customer pays their bill: Bank Withdrawal, Credit Card, Mailed Check.\n",
    "- Monthly Charge: Indicates the customer’s current total monthly charge for all their services from the company.\n",
    "- Total Charges: Indicates the customer’s total charges, calculated to the end of the quarter specified above.\n",
    "- Total Refunds: Indicates the customer’s total refunds, calculated to the end of the quarter specified above.\n",
    "- Total Extra Data Charges: Indicates the customer’s total charges for extra data downloads above those specified in their plan, by the end of the quarter specified above.\n",
    "- Total Long Distance Charges: Indicates the customer’s total charges for long distance above those specified in their plan, by the end of the quarter specified above.\n",
    "- Total Revenue: Indicates the total revenue the company has obtained from the customer, by the end of the quarter specified above."
   ]
  },
  {
   "cell_type": "markdown",
   "id": "47ys1RlwGaRp",
   "metadata": {
    "id": "47ys1RlwGaRp"
   },
   "source": [
    "## **Status**"
   ]
  },
  {
   "cell_type": "markdown",
   "id": "dVBFpzswGhqC",
   "metadata": {
    "id": "dVBFpzswGhqC"
   },
   "source": [
    "- CustomerID: A unique ID that identifies each customer.\n",
    "- Count: A value used in reporting/dashboarding to sum up the number of customers in a filtered set.\n",
    "- Quarter: The fiscal quarter that the data has been derived from (e.g. Q3).\n",
    "- Satisfaction Score: A customer’s overall satisfaction rating of the company from 1 (Very Unsatisfied) to 5 (Very Satisfied).\n",
    "- Customer Status: Indicates the status of the customer at the end of the quarter: Churned, Stayed, or Joined\n",
    "- Churn Label: Yes = the customer left the company this quarter. No = the customer remained with the company. Directly related to Churn Value.\n",
    "- Churn Value: 1 = the customer left the company this quarter. 0 = the customer remained with the company. Directly related to Churn Label.\n",
    "- Churn Score: A value from 0-100 that is calculated using the predictive tool IBM SPSS Modeler. The model incorporates multiple factors known to cause churn. The higher the score, the more likely the customer will churn.\n",
    "- CLTV: Customer Lifetime Value. A predicted CLTV is calculated using corporate formulas and existing data. The higher the value, the more valuable the customer. High value customers should be monitored for churn.\n",
    "- Churn Category: A high-level category for the customer’s reason for churning: Attitude, Competitor, Dissatisfaction, Other, Price. When they leave the company, all customers are asked about their reasons for leaving. Directly related to Churn Reason.\n",
    "- Churn Reason: A customer’s specific reason for leaving the company. Directly related to Churn Category."
   ]
  },
  {
   "cell_type": "markdown",
   "id": "TAmGL3-28Iwg",
   "metadata": {
    "id": "TAmGL3-28Iwg"
   },
   "source": [
    "# **Libraries and Functions**"
   ]
  },
  {
   "cell_type": "code",
   "execution_count": null,
   "id": "1d83ec9c-5d89-42cb-90e5-b7b4af0e6c53",
   "metadata": {
    "colab": {
     "base_uri": "https://localhost:8080/"
    },
    "id": "1d83ec9c-5d89-42cb-90e5-b7b4af0e6c53",
    "outputId": "12b474e2-3682-4a77-c11b-0c4d64338215"
   },
   "outputs": [],
   "source": [
    "# Libraries, modules and settings\n",
    "\n",
    "# !pip install plotly==5.6.0\n",
    "# !pip install prince==0.7.1\n",
    "\n",
    "from itertools import combinations\n",
    "\n",
    "import numpy as np\n",
    "import pandas as pd\n",
    "\n",
    "import matplotlib.pyplot as plt\n",
    "import seaborn as sns\n",
    "sns.set_style('whitegrid')\n",
    "sns.set_context('notebook')\n",
    "import plotly.express as px\n",
    "\n",
    "from prince import MCA\n",
    "\n",
    "# If running in a Windows 64-bit machine,\n",
    "# run the lines below to accelerate scikit-learn packages\n",
    "\n",
    "# from sklearnex import patch_sklearn\n",
    "# patch_sklearn()"
   ]
  },
  {
   "cell_type": "code",
   "execution_count": null,
   "id": "b30140f7-5ebf-4e5a-95a9-3b47cfc39ae6",
   "metadata": {
    "id": "b30140f7-5ebf-4e5a-95a9-3b47cfc39ae6"
   },
   "outputs": [],
   "source": [
    "# Functions\n",
    "\n",
    "\n",
    "def df_colnames_norm(df):\n",
    "\n",
    "    '''\n",
    "    Normalize DataFrame's column names\n",
    "    (lower strings and no spaces).\n",
    "    '''\n",
    "\n",
    "    df.columns = df.columns.str.replace(' ', '_').str.lower()\n",
    "\n",
    "\n",
    "def df_dropcols_singlevalue(df):\n",
    "\n",
    "    '''\n",
    "    Takes a DataFrame and drop columns with only one distinct value.\n",
    "    '''\n",
    "\n",
    "    for c in df.columns:\n",
    "        if df[c].nunique() == 1:\n",
    "            df.drop(columns=c, inplace=True)\n",
    "\n",
    "\n",
    "def df_profile(df):\n",
    "\n",
    "    '''\n",
    "    Returns a DataFrame with data type, null values, zero values and cardinality.\n",
    "    '''\n",
    "\n",
    "    dict_df = {'column': [], 'dtype': [], 'null_n': [], 'null_%': [], \n",
    "               'zeros_n': [], 'zeros_%': [], 'unique_n': [], 'unique_%': []}\n",
    "\n",
    "    for c in df.columns:\n",
    "        dict_df['column'].append(c)\n",
    "        dict_df['dtype'].append(df[c].dtype)\n",
    "        dict_df['null_n'].append(df[c].isna().sum())\n",
    "        dict_df['null_%'].append(\n",
    "            '{:.2%}'.format(df[c].isna().sum() / len(df))\n",
    "            )\n",
    "        dict_df['zeros_n'].append((df[c]==0).sum())\n",
    "        dict_df['zeros_%'].append(\n",
    "            '{:.2%}'.format((df[c]==0).sum() / len(df))\n",
    "            )\n",
    "        dict_df['unique_n'].append(df[c].nunique())\n",
    "        dict_df['unique_%'].append(\n",
    "            '{:.2%}'.format(df[c].nunique() / len(df))\n",
    "            )\n",
    "    \n",
    "    dict_df = pd.DataFrame(dict_df).set_index('column')\n",
    "    \n",
    "    return dict_df\n",
    "\n",
    "\n",
    "def stacked_corr(corr):\n",
    "\n",
    "    '''\n",
    "    Returns a stacked matrix that shows correlation\n",
    "    between each pair of features row by row (decreasingly in absolute value).\n",
    "    '''\n",
    "\n",
    "    stacked_corr = corr.stack().reset_index()\n",
    "    stacked_corr.columns = ['feature_1', 'feature_2', 'r']\n",
    "    stacked_corr['features'] = pd.Series(\n",
    "        list(zip(stacked_corr['feature_1'], stacked_corr['feature_2']))\n",
    "        )\n",
    "    \n",
    "    comb_features = list(combinations(corr.columns, 2))\n",
    "    \n",
    "    stacked_corr = stacked_corr.query('features in @comb_features')\n",
    "    stacked_corr = stacked_corr[['feature_1', 'feature_2', 'r']]\n",
    "    stacked_corr.loc[:, 'abs_r'] = np.abs(stacked_corr['r'])    \n",
    "    stacked_corr = stacked_corr.sort_values('abs_r', ascending=False)\n",
    "    \n",
    "    return(stacked_corr)\n"
   ]
  },
  {
   "cell_type": "markdown",
   "id": "e5JpTBzfrxkB",
   "metadata": {
    "id": "e5JpTBzfrxkB"
   },
   "source": [
    "# **Data Reading**"
   ]
  },
  {
   "cell_type": "code",
   "execution_count": null,
   "id": "20349776-19f2-4492-bac8-77ab9426bc57",
   "metadata": {
    "id": "20349776-19f2-4492-bac8-77ab9426bc57"
   },
   "outputs": [],
   "source": [
    "# DataFrames\n",
    "\n",
    "df_demographics = pd.read_excel(r'./../data/Telco_customer_churn_demographics.xlsx')\n",
    "df_location = pd.read_excel(r'./../data/Telco_customer_churn_location.xlsx')\n",
    "df_population = pd.read_excel(r'./../data/Telco_customer_churn_population.xlsx')\n",
    "df_services = pd.read_excel(r'./../data/Telco_customer_churn_services.xlsx')\n",
    "df_status = pd.read_excel(r'./../data/Telco_customer_churn_status.xlsx')\n",
    "\n",
    "# If running in Colab, load the files and then run:\n",
    "\n",
    "# df_demographics = pd.read_excel('Telco_customer_churn_demographics.xlsx')\n",
    "# df_location = pd.read_excel('Telco_customer_churn_location.xlsx')\n",
    "# df_population = pd.read_excel('Telco_customer_churn_population.xlsx')\n",
    "# df_services = pd.read_excel('Telco_customer_churn_services.xlsx')\n",
    "# df_status = pd.read_excel('Telco_customer_churn_status.xlsx')"
   ]
  },
  {
   "cell_type": "markdown",
   "id": "9sp-68Qx9rBF",
   "metadata": {
    "id": "9sp-68Qx9rBF"
   },
   "source": [
    "In order to straightforwardly apply attributes, methods and functions over all DataFrames by iteration, two lists are created: the first containes the DataFrames themselves, and the second contains DataFrames' names."
   ]
  },
  {
   "cell_type": "code",
   "execution_count": null,
   "id": "f87a3003-6873-49bb-ab15-332ae23c451e",
   "metadata": {
    "id": "f87a3003-6873-49bb-ab15-332ae23c451e"
   },
   "outputs": [],
   "source": [
    "# Lists of DataFrames (and DataFrames' names) to iterate over\n",
    "\n",
    "dfs = [df_demographics, df_location, df_population, df_services, df_status]\n",
    "\n",
    "dfs_names = ['df_demographics', 'df_location', \n",
    "             'df_population', 'df_services', 'df_status']"
   ]
  },
  {
   "cell_type": "markdown",
   "id": "gDl0NCFp_DpY",
   "metadata": {
    "id": "gDl0NCFp_DpY"
   },
   "source": [
    "To avoid problems later, all column names are normalized: spaces are replaced with '_', and all strings are converted to lowercase."
   ]
  },
  {
   "cell_type": "code",
   "execution_count": null,
   "id": "5e7738af-52bf-40aa-abef-4985a0253874",
   "metadata": {
    "id": "5e7738af-52bf-40aa-abef-4985a0253874"
   },
   "outputs": [],
   "source": [
    "# Column names normalization over DataFrames\n",
    "\n",
    "for d in dfs:\n",
    "    df_colnames_norm(d)"
   ]
  },
  {
   "cell_type": "markdown",
   "id": "rd9SDBxvrfSz",
   "metadata": {
    "id": "rd9SDBxvrfSz"
   },
   "source": [
    "# **Data Wrangling**"
   ]
  },
  {
   "cell_type": "markdown",
   "id": "oHp3NDzIVvZJ",
   "metadata": {
    "id": "oHp3NDzIVvZJ"
   },
   "source": [
    "## **DataFrames: overview**"
   ]
  },
  {
   "cell_type": "markdown",
   "id": "e2v2PJVEAPa2",
   "metadata": {
    "id": "e2v2PJVEAPa2"
   },
   "source": [
    "As starting point, DataFrames are inspected through some of their basic attributes and methods."
   ]
  },
  {
   "cell_type": "code",
   "execution_count": null,
   "id": "4d1cd66a-d2d9-4af8-bd03-7e1876de4705",
   "metadata": {
    "colab": {
     "base_uri": "https://localhost:8080/"
    },
    "id": "4d1cd66a-d2d9-4af8-bd03-7e1876de4705",
    "outputId": "e828aeaf-5ce8-4494-b2b0-2910c736601b"
   },
   "outputs": [],
   "source": [
    "# DataFrames: shape, columns and info\n",
    "\n",
    "for i, d in enumerate(dfs):\n",
    "    print(dfs_names[i], ':\\n')\n",
    "    print('Shape:', d.shape, '\\n')\n",
    "    print('Columns:', d.columns, '\\n')\n",
    "    print('Info:\\n')\n",
    "    print(d.info())\n",
    "    print('\\n--------------------------------------------------------------------------------------------------\\n')"
   ]
  },
  {
   "cell_type": "markdown",
   "id": "vtuWDebMEfJ_",
   "metadata": {
    "id": "vtuWDebMEfJ_"
   },
   "source": [
    "All DataFrames (except df_population) have at least two data types (object and integer). Also, all but one of them (again df_population) have same length."
   ]
  },
  {
   "cell_type": "markdown",
   "id": "SA5C1woP8b1Q",
   "metadata": {
    "id": "SA5C1woP8b1Q"
   },
   "source": [
    "In order to see how the DataFrames look like, a little sample of each one is displayed."
   ]
  },
  {
   "cell_type": "code",
   "execution_count": null,
   "id": "5aff8047-ffa6-4e77-a7ae-517532516410",
   "metadata": {
    "colab": {
     "base_uri": "https://localhost:8080/",
     "height": 1000
    },
    "id": "5aff8047-ffa6-4e77-a7ae-517532516410",
    "outputId": "5f2940cb-82b4-4ff1-fb63-b9d14e4a8ec6"
   },
   "outputs": [],
   "source": [
    "# DataFrames: samples\n",
    "\n",
    "dfs_list = []\n",
    "\n",
    "for i in range(len(dfs)):\n",
    "    dfs_list.append(dfs_names[i] + ':')\n",
    "    dfs_list.append('')\n",
    "    dfs_list.append(dfs[i].sample(5))\n",
    "    dfs_list.append('')    \n",
    "    dfs_list.append('----------------------------------------------------------------------------------------------------------------')\n",
    "    dfs_list.append('')\n",
    "\n",
    "# Function that allows to display multiple DataFrames in a single cell (takes as argument the previous list(unpacked)), and showing all columns\n",
    "\n",
    "with pd.option_context('display.max_columns', max(c.shape[1] for c in dfs)):\n",
    "    display(*dfs_list)"
   ]
  },
  {
   "cell_type": "markdown",
   "id": "HeFSsIPJ7T2I",
   "metadata": {
    "id": "HeFSsIPJ7T2I"
   },
   "source": [
    "## **Columns: deeper inspection**"
   ]
  },
  {
   "cell_type": "markdown",
   "id": "dKwCcFqPDLjB",
   "metadata": {
    "id": "dKwCcFqPDLjB"
   },
   "source": [
    "Going deeper, it's interesting to count how many null, zero and distinct values are there in each column."
   ]
  },
  {
   "cell_type": "code",
   "execution_count": null,
   "id": "0e8d0112-da2c-483f-acc0-f462cd365c15",
   "metadata": {
    "colab": {
     "base_uri": "https://localhost:8080/",
     "height": 1000
    },
    "id": "0e8d0112-da2c-483f-acc0-f462cd365c15",
    "outputId": "f6d18bcf-497a-47bd-e117-bb78b1210cbf"
   },
   "outputs": [],
   "source": [
    "# DataFrames' columns: cardinality and nulls\n",
    "\n",
    "# Dictionary of DataFrames, each of one references to cardinality and nulls in original DataFrames' columns\n",
    "\n",
    "dfs_dict={}\n",
    "\n",
    "for i, d in enumerate(dfs):\n",
    "    dfs_dict[dfs_names[i]] = df_profile(d)\n",
    "\n",
    "# List with names and DataFrames\n",
    "\n",
    "dfs_list_2 = []\n",
    "\n",
    "for i in range(len(dfs)):\n",
    "    dfs_list_2.append(dfs_names[i] + ':')\n",
    "    dfs_list_2.append('')\n",
    "    dfs_list_2.append(dfs_dict[dfs_names[i]])\n",
    "    dfs_list_2.append('')\n",
    "    dfs_list_2.append('----------------------------------------------------------------------------------------------------------------')\n",
    "    dfs_list_2.append('')\n",
    "\n",
    "# Function that allows to display multiple DataFrames in a single cell (takes as argument the previous list(unpacked))\n",
    "\n",
    "display(*dfs_list_2)"
   ]
  },
  {
   "cell_type": "markdown",
   "id": "rnTmzoEvMsQ5",
   "metadata": {
    "id": "rnTmzoEvMsQ5"
   },
   "source": [
    "Mostly, columns with object data types have low cardinality and columns with numeric data types have high cardinality, which is the expected pattern. Also, there are some columns with high proportion of zero values and a few ones with null values."
   ]
  },
  {
   "cell_type": "markdown",
   "id": "mH9d3xjjVK2C",
   "metadata": {
    "id": "mH9d3xjjVK2C"
   },
   "source": [
    "## **Columns with only one distinct value**"
   ]
  },
  {
   "cell_type": "markdown",
   "id": "EiDUTh1tO0Zk",
   "metadata": {
    "id": "EiDUTh1tO0Zk"
   },
   "source": [
    "Looking at the tables above, it can be seen that some columns have only one distinct value."
   ]
  },
  {
   "cell_type": "code",
   "execution_count": null,
   "id": "4e7bcfcb-a8e7-446b-942a-f116413941e1",
   "metadata": {
    "colab": {
     "base_uri": "https://localhost:8080/"
    },
    "id": "4e7bcfcb-a8e7-446b-942a-f116413941e1",
    "outputId": "68277726-f85e-45c4-aa80-7c7c5abfedd7"
   },
   "outputs": [],
   "source": [
    "# Distinct values for columns that have only one\n",
    "\n",
    "for i, d in enumerate(dfs):\n",
    "    print(dfs_names[i], ':\\n')\n",
    "    for c in d.columns:\n",
    "        if d[c].nunique() == 1:\n",
    "            print(d[c].value_counts(), '\\n')\n",
    "    print('----------------------------\\n')"
   ]
  },
  {
   "cell_type": "markdown",
   "id": "N82gAaqwPIIr",
   "metadata": {
    "id": "N82gAaqwPIIr"
   },
   "source": [
    "Data is about customers living in the United States, in the state of California, and in quarter 3. After taking note of this, the columns can be dropped without any lost of information."
   ]
  },
  {
   "cell_type": "markdown",
   "id": "uHYSBrm_P1IK",
   "metadata": {
    "id": "uHYSBrm_P1IK"
   },
   "source": [
    "Column 'count' is used in reporting/dashboarding tools to sum up the number of customers in a filtered set, and it can be dropped too."
   ]
  },
  {
   "cell_type": "code",
   "execution_count": null,
   "id": "3130431a-2193-4dbd-8725-ee2ca114c851",
   "metadata": {
    "id": "3130431a-2193-4dbd-8725-ee2ca114c851"
   },
   "outputs": [],
   "source": [
    "for d in dfs:\n",
    "  df_dropcols_singlevalue(d)"
   ]
  },
  {
   "cell_type": "markdown",
   "id": "r5GOLkDNVcfg",
   "metadata": {
    "id": "r5GOLkDNVcfg"
   },
   "source": [
    "## **Columns with same name among DataFrames**"
   ]
  },
  {
   "cell_type": "markdown",
   "id": "-rKYE1vyQN-p",
   "metadata": {
    "id": "-rKYE1vyQN-p"
   },
   "source": [
    "At this point, it can be noted that there are some columns with the same name among DataFrames. Checking it is a good step, since if these columns also contain the same information, they could be used to merge the DataFrames."
   ]
  },
  {
   "cell_type": "code",
   "execution_count": null,
   "id": "bd99892c-fb07-4738-b993-9be9a15c9b80",
   "metadata": {
    "colab": {
     "base_uri": "https://localhost:8080/"
    },
    "id": "bd99892c-fb07-4738-b993-9be9a15c9b80",
    "outputId": "b416e656-35ee-483f-f25a-dd7823864f02"
   },
   "outputs": [],
   "source": [
    "# Columns with same name in more than one DataFrame\n",
    "\n",
    "for i, d in enumerate(dfs):\n",
    "    for j, f in enumerate(dfs[: i] + dfs[i + 1: ]):\n",
    "        for c in d.columns:\n",
    "            if c in f.columns:\n",
    "                print(\"Column '\", c, \"' is in both\", dfs_names[i], 'and', \n",
    "                      (dfs_names[: i] + dfs_names[i + 1: ])[j], 'DataFrames')"
   ]
  },
  {
   "cell_type": "markdown",
   "id": "OArA_SKWXVIo",
   "metadata": {
    "id": "OArA_SKWXVIo"
   },
   "source": [
    "- All DataFrames with the same lenght have the common column 'customer_id', which has all distinct values. If data is the same among DataFrames, it means that they can all be merged with one-to-one relations. One easy way to check it is through a set operation."
   ]
  },
  {
   "cell_type": "code",
   "execution_count": null,
   "id": "mBXVBKT0Mu5B",
   "metadata": {
    "colab": {
     "base_uri": "https://localhost:8080/"
    },
    "id": "mBXVBKT0Mu5B",
    "outputId": "23186839-c0a7-4608-fbef-40c253b08f0f"
   },
   "outputs": [],
   "source": [
    "dfs_customers = [df_demographics, df_location, df_services, df_status]\n",
    "dfs_customers_names = ['df_demographics', 'df_location', 'df_services', 'df_status']\n",
    "\n",
    "for i, d in enumerate(dfs_customers):\n",
    "  for j, f in enumerate(dfs_customers[: i] + dfs_customers[i + 1: ]):\n",
    "    print(\"'customer_id' values are the same in both\", dfs_customers_names[i], \n",
    "          'and', (dfs_customers_names[: i] + dfs_customers_names[i + 1: ])[j], \n",
    "          '?', set(d['customer_id']) == set(f['customer_id']))"
   ]
  },
  {
   "cell_type": "markdown",
   "id": "MrpMKUmvWzKU",
   "metadata": {
    "id": "MrpMKUmvWzKU"
   },
   "source": [
    "\n",
    "> Each DataFrame contains different aspects about the same customers."
   ]
  },
  {
   "cell_type": "markdown",
   "id": "69rdoqVwEwgj",
   "metadata": {
    "id": "69rdoqVwEwgj"
   },
   "source": [
    "- Column 'zip_code' is in both df_population (with all distinct values) and df_location (with not all distinct values). If their values are common (or at least, all values in df_location are included in df_population), these two DataFrames can be merged with a one-to-many relation, so that for each customer, it can be known the population size in his/her district."
   ]
  },
  {
   "cell_type": "code",
   "execution_count": null,
   "id": "PMoqxMPyL2tV",
   "metadata": {
    "colab": {
     "base_uri": "https://localhost:8080/"
    },
    "id": "PMoqxMPyL2tV",
    "outputId": "6c89cf0d-0e80-4aec-9e24-1a4a070ada4d"
   },
   "outputs": [],
   "source": [
    "print(\"'zip_code' values are the same in both df_location and population?\", \n",
    "      set(df_location['zip_code']) == set(df_population['zip_code']))\n",
    "print(\"How many 'zip_code' values in df_population are not included in df_location?\",\n",
    "      len(set(df_population['zip_code']) - set(df_location['zip_code'])))\n",
    "print(\"How many 'zip_code' values in df_location are not included in df_population?\", \n",
    "      len(set(df_location['zip_code']) - set(df_population['zip_code'])))"
   ]
  },
  {
   "cell_type": "markdown",
   "id": "3FmU5awT-cLj",
   "metadata": {
    "id": "3FmU5awT-cLj"
   },
   "source": [
    "There are a 45 districts without customers, but all districts with at least one customer have their population info."
   ]
  },
  {
   "cell_type": "markdown",
   "id": "3gl42u9HVB_N",
   "metadata": {
    "id": "3gl42u9HVB_N"
   },
   "source": [
    "## **Null values**"
   ]
  },
  {
   "cell_type": "markdown",
   "id": "sswEGaJdIUTQ",
   "metadata": {
    "id": "sswEGaJdIUTQ"
   },
   "source": [
    "In df_status, there are two columns with null values, 'churn_reason' and 'churn_category', but they could be not missing values."
   ]
  },
  {
   "cell_type": "code",
   "execution_count": null,
   "id": "70314be4-5096-4cfd-af62-3b1c5b61724c",
   "metadata": {
    "colab": {
     "base_uri": "https://localhost:8080/"
    },
    "id": "70314be4-5096-4cfd-af62-3b1c5b61724c",
    "outputId": "9548685b-e367-4456-9f37-7e84f19da9c6"
   },
   "outputs": [],
   "source": [
    "print(\"'churn_label' for null values in 'churn_reason'\\n\\n\", \n",
    "      df_status[df_status['churn_reason'].isna()]['churn_label'].value_counts())\n",
    "print('\\n------------------------------------------\\n')\n",
    "print(\"'churn_label' for not null values in 'churn_reason'\\n\\n\", \n",
    "      df_status[df_status['churn_reason'].notna()]['churn_label'].value_counts())\n",
    "print('\\n------------------------------------------\\n')\n",
    "print(\"'churn_label' for null values in 'churn_category'\\n\\n\", \n",
    "      df_status[df_status['churn_category'].isna()]['churn_label'].value_counts())\n",
    "print('\\n------------------------------------------\\n')\n",
    "print(\"'churn_label' for not null values in 'churn_category'\\n\\n\", \n",
    "      df_status[df_status['churn_category'].notna()]['churn_label'].value_counts())"
   ]
  },
  {
   "cell_type": "markdown",
   "id": "4D_BPP7uOEWe",
   "metadata": {
    "id": "4D_BPP7uOEWe"
   },
   "source": [
    "All null values belong to customers that didn't churn, so obviously there's not a churn reason."
   ]
  },
  {
   "cell_type": "markdown",
   "id": "U0fsdpzj8d7Y",
   "metadata": {
    "id": "U0fsdpzj8d7Y"
   },
   "source": [
    "# **Exploratory Data Analysis (EDA)**"
   ]
  },
  {
   "cell_type": "markdown",
   "id": "of8eER0D83yY",
   "metadata": {
    "id": "of8eER0D83yY"
   },
   "source": [
    "The EDA will be performed taking the following approach:\n",
    "- First, each DataFrame will be analyzed individually, in order to gain some insights about different aspects of the customers and population in California.\n",
    "- Then, all DataFrames will be merged, in order to gain new insights from the available data."
   ]
  },
  {
   "cell_type": "markdown",
   "id": "PJ0Vneo1orhS",
   "metadata": {
    "id": "PJ0Vneo1orhS"
   },
   "source": [
    "## **Status**"
   ]
  },
  {
   "cell_type": "markdown",
   "id": "zpwed6CFJh6k",
   "metadata": {
    "id": "zpwed6CFJh6k"
   },
   "source": [
    "It's convenient to start the analysis with df_status, since it includes the target, this is, whether the customer churnes or not. In turn, this allows to do very useful analytics and calculate some important KPIs."
   ]
  },
  {
   "cell_type": "markdown",
   "id": "uCEHWbQWLgNq",
   "metadata": {
    "id": "uCEHWbQWLgNq"
   },
   "source": [
    "### **Target and KPIs**"
   ]
  },
  {
   "cell_type": "markdown",
   "id": "m_qbniJzMuz0",
   "metadata": {
    "id": "m_qbniJzMuz0"
   },
   "source": [
    "The target is reflected in two columns, 'churn_label' and 'churn_value', and they should be consistent."
   ]
  },
  {
   "cell_type": "code",
   "execution_count": null,
   "id": "EgtuoFThKpre",
   "metadata": {
    "colab": {
     "base_uri": "https://localhost:8080/",
     "height": 314
    },
    "id": "EgtuoFThKpre",
    "outputId": "b9fc7447-3cb9-470b-a72b-c71170f780a5"
   },
   "outputs": [],
   "source": [
    "sns.histplot(data=df_status, x='churn_value', discrete=True, \n",
    "             hue='churn_label', hue_order=['Yes', 'No'], palette='Set1')\n",
    "\n",
    "plt.suptitle(\"df_status: bivariate distribution between 'churn_label' and 'churn_value'\")\n",
    "\n",
    "style=dict(ha='center', va='center', size=14)\n",
    "\n",
    "# Percentages inside the bars\n",
    "\n",
    "plt.text(0, (len(df_status) - df_status['churn_value'].sum()) / 2, \n",
    "         '{:.2%}'.format((len(df_status) - df_status['churn_value'].sum()) / len(df_status)), \n",
    "         **style)\n",
    "plt.text(1, df_status['churn_value'].sum() / 2, \n",
    "         '{:.2%}'.format(df_status['churn_value'].sum() / len(df_status)), \n",
    "         **style)\n",
    "\n",
    "plt.show()"
   ]
  },
  {
   "cell_type": "markdown",
   "id": "ajCmrY6fQQFs",
   "metadata": {
    "id": "ajCmrY6fQQFs"
   },
   "source": [
    "Both columns show the same data in a different way. It's important to note that the percentages displayed in the plot cannot be considered as KPIs, since first it's necessary to substract from the denominator the number of customers that joined in the current quarter, to get the number of customers at the start of the period."
   ]
  },
  {
   "cell_type": "markdown",
   "id": "SDKETqjfzBse",
   "metadata": {
    "id": "SDKETqjfzBse"
   },
   "source": [
    "Conveniently, this information is provided by 'customer_status', which makes possible to do all kind of analytics about customers evolution, churning and retention. As starting point, it allows to know the number of customers at the start and at the end of the period."
   ]
  },
  {
   "cell_type": "code",
   "execution_count": null,
   "id": "LQSkT2AJ71TE",
   "metadata": {
    "colab": {
     "base_uri": "https://localhost:8080/"
    },
    "id": "LQSkT2AJ71TE",
    "outputId": "3ea6d171-b99a-4da6-cf22-9d87587feb8e"
   },
   "outputs": [],
   "source": [
    "print('Number of customers at the start of the quarter:', \n",
    "      (df_status['customer_status']!='Joined').sum())\n",
    "print('Number of customers at the end of the quarter:', \n",
    "      (df_status['customer_status']!='Churned').sum())"
   ]
  },
  {
   "cell_type": "markdown",
   "id": "T9sVefyVw1Z5",
   "metadata": {
    "id": "T9sVefyVw1Z5"
   },
   "source": [
    "The company has lost customers respect to the previous period, so the next question is how many customers have been lost."
   ]
  },
  {
   "cell_type": "code",
   "execution_count": null,
   "id": "v-0VuS48xgZD",
   "metadata": {
    "colab": {
     "base_uri": "https://localhost:8080/"
    },
    "id": "v-0VuS48xgZD",
    "outputId": "b27f534d-d432-41fb-fb54-7e6887a4b4c3"
   },
   "outputs": [],
   "source": [
    "print('Number of customers that the company has lost respect to the previous quarter:', \n",
    "      (df_status['customer_status']!='Joined').sum() - \n",
    "      (df_status['customer_status']!='Churned').sum())\n",
    "print('Ratio between customers at the end and at the start of the quarter: {:.2%}'.format(\n",
    "    (df_status['customer_status']!='Churned').sum() / \n",
    "    (df_status['customer_status']!='Joined').sum()\n",
    "    ))"
   ]
  },
  {
   "cell_type": "markdown",
   "id": "n0AX31fj_Z3m",
   "metadata": {
    "id": "n0AX31fj_Z3m"
   },
   "source": [
    "As said before, it's possible from this data to compute some important KPIs, but keeping in mind that ratios must be calculated dividing by the number of customers at the start of the quarter.\n",
    "\n",
    "$ChurnRate = \\frac {NCustomersChurned} {NcustsomersStart}$\n",
    "\n",
    "$RetentionRate = \\frac {NCustomersStayed} {NCustomersStart}$\n",
    "\n",
    "$ActivationRate = \\frac {NCustomersJoined} {NCustormersStart}$"
   ]
  },
  {
   "cell_type": "code",
   "execution_count": null,
   "id": "-VdkPF4bRLfS",
   "metadata": {
    "colab": {
     "base_uri": "https://localhost:8080/",
     "height": 368
    },
    "id": "-VdkPF4bRLfS",
    "outputId": "8f512f6b-1075-49bd-cd53-e13e35a98db0"
   },
   "outputs": [],
   "source": [
    "g = sns.catplot(data=df_status, x='customer_status', col='churn_label', kind='count', \n",
    "                order=['Churned', 'Stayed', 'Joined'], col_order=['Yes', 'No'], palette='Set1')\n",
    "\n",
    "plt.suptitle(\"df_status: bivariate distribution between 'customer_status' and 'churn_label'\", \n",
    "             y=1.05)\n",
    "\n",
    "style=dict(ha='center', va='center', size=12)\n",
    "\n",
    "# Percentages inside the bars\n",
    "\n",
    "g.axes[0, 0].text(0, (df_status['customer_status'] == 'Churned').sum() / 2, \n",
    "                  'Churn rate:\\n{:.2%}'.format(\n",
    "                      (df_status['customer_status'] == 'Churned').sum() / \n",
    "                      (df_status['customer_status'] != 'Joined').sum()\n",
    "                      ), **style)\n",
    "g.axes[0, 1].text(1, (df_status['customer_status'] == 'Stayed').sum() / 2, \n",
    "                  'Retention rate:\\n{:.2%}'.format(\n",
    "                      (df_status['customer_status'] == 'Stayed').sum() / \n",
    "                      (df_status['customer_status'] != 'Joined').sum()\n",
    "                      ), **style)\n",
    "g.axes[0, 1].text(2, (df_status['customer_status'] == 'Joined').sum() / 2, \n",
    "                  'Activation rate:\\n{:.2%}'.format(\n",
    "                      (df_status['customer_status'] == 'Joined').sum() / \n",
    "                      (df_status['customer_status'] != 'Joined').sum()\n",
    "                      ), **style)\n",
    "\n",
    "plt.show()"
   ]
  },
  {
   "cell_type": "markdown",
   "id": "z-_OPeTBPJdm",
   "metadata": {
    "id": "z-_OPeTBPJdm"
   },
   "source": [
    "Category 'Yes' in 'churn_label' is exactly the same that category 'Churned' in 'customer_status', while category 'No' in 'churn_label' can be viewed with more detail in 'customer_status', among categories 'Joined' and 'Stayed'."
   ]
  },
  {
   "cell_type": "markdown",
   "id": "HawfEB82hy0a",
   "metadata": {
    "id": "HawfEB82hy0a"
   },
   "source": [
    "Tipically, the next step would be to make a cohort analysis. However, this is not possible because for doing this, the dataset should contain the customers that joined and churned in previous periods. Anyway, it's still possible to explore more specific KPIs with the available data."
   ]
  },
  {
   "cell_type": "markdown",
   "id": "DEnWsCEBUdjd",
   "metadata": {
    "id": "DEnWsCEBUdjd"
   },
   "source": [
    "- Average Customers Lifetime: it measures the number of periods that customers stay with the company, in average (assuming a constant churn rate). It can be calculated as the reciprocal of the churn rate.\n",
    "\n",
    "> $ACLT = \\frac 1 {Churn Rate} = \\frac {NCustomersStart} {NCustomersChurned}$\n",
    "\n",
    "> Its importance lies in the fact that, for being profitable, customers must give benefits before this time."
   ]
  },
  {
   "cell_type": "code",
   "execution_count": null,
   "id": "Fmj3hMNembYQ",
   "metadata": {
    "colab": {
     "base_uri": "https://localhost:8080/"
    },
    "id": "Fmj3hMNembYQ",
    "outputId": "4ff1b97c-823d-442b-f64e-fed6191c47fe"
   },
   "outputs": [],
   "source": [
    "print('Average Customers Lifetime:', round(\n",
    "    (df_status['customer_status'] != 'Joined').sum() / \n",
    "    (df_status['customer_status'] == 'Churned').sum(), 4\n",
    "    ), 'quarters.')"
   ]
  },
  {
   "cell_type": "markdown",
   "id": "9egObZSUmj6i",
   "metadata": {
    "id": "9egObZSUmj6i"
   },
   "source": [
    "> In average, customers must report benefits between months 1 and 10 of their lifetime; otherwise, the company will not cover the acquisition costs associated. Of course, it's incorrect to supose that all customers belong to the same distribution. Previously, it's necessary to make a good segmentation, so that for each cluster, it can be calculated the average lifetime. But this can't be done until merging the DataFrames, since more features are needed."
   ]
  },
  {
   "cell_type": "markdown",
   "id": "D9-bdOO2cpNo",
   "metadata": {
    "id": "D9-bdOO2cpNo"
   },
   "source": [
    "- Future Dimension of the Business: this concept arises from applying the average lifetime to the customers that joined in the current period. In other words, it estimates, from historical data, the total number of periods that new customers will stay in the company.\n",
    "\n",
    "> $FDB = NCustomersJoined * ACLT = \\frac {NCustomersJoined * NCustomersStart} {NCustomersChurned}$\n",
    "\n"
   ]
  },
  {
   "cell_type": "code",
   "execution_count": null,
   "id": "iWYoo2ZhvQsg",
   "metadata": {
    "colab": {
     "base_uri": "https://localhost:8080/"
    },
    "id": "iWYoo2ZhvQsg",
    "outputId": "eda72beb-cd7c-4c6a-cab8-e6efac0b64ee"
   },
   "outputs": [],
   "source": [
    "print('Future Dimension of the Business:', round(\n",
    "    (df_status['customer_status'] == 'Joined').sum() * \n",
    "    (df_status['customer_status'] != 'Joined').sum() / \n",
    "    (df_status['customer_status'] == 'Churned').sum(), 2\n",
    "    ), 'quarters.')"
   ]
  },
  {
   "cell_type": "markdown",
   "id": "pQuvMxwa0hAr",
   "metadata": {
    "id": "pQuvMxwa0hAr"
   },
   "source": [
    "- Increase in the Dimension of the Business: ratio between the Future Dimension of the Business and the number of customers at the start of the period, minus 1. Through some algebraic operations, it's possible to switch its calculus as the ratio between the activation and the churn rate, minus 1.\n",
    "\n",
    "> $IDB = \\frac {FDB} {NCustomersStart} - 1 = \\frac {NCustomersJoined} {NCustomersChurned} - 1 = \\frac {ActivationRate} {ChurnRate} - 1$\n",
    "\n",
    "> It indicates, from a customer lifetime approach, if the number of customers is increasing or decreasing."
   ]
  },
  {
   "cell_type": "code",
   "execution_count": null,
   "id": "g3Wn810hhWBU",
   "metadata": {
    "colab": {
     "base_uri": "https://localhost:8080/"
    },
    "id": "g3Wn810hhWBU",
    "outputId": "0956b99c-0e02-4104-fa0d-ce496c1eb000"
   },
   "outputs": [],
   "source": [
    "print('Increase in Dimension of Business: {:.2%}'.format(\n",
    "    ((df_status['customer_status'] == 'Joined').sum() / \n",
    "     (df_status['customer_status'] == 'Churned').sum()) - 1\n",
    "     ))"
   ]
  },
  {
   "cell_type": "markdown",
   "id": "ZCLEkGnZC_0n",
   "metadata": {
    "id": "ZCLEkGnZC_0n"
   },
   "source": [
    "> The situation of the company in the aspects of retention and customers lifetime (in California), taking in account the available data (only the current quarter) is really awful.\n",
    "\n"
   ]
  },
  {
   "cell_type": "markdown",
   "id": "E5oD9mSOQgMa",
   "metadata": {
    "id": "E5oD9mSOQgMa"
   },
   "source": [
    "### **Categorical features**"
   ]
  },
  {
   "cell_type": "markdown",
   "id": "-xFxtBCPbREP",
   "metadata": {
    "id": "-xFxtBCPbREP"
   },
   "source": [
    "Moving to the next features, 'churn_reason' and 'churn_category' should be consistent."
   ]
  },
  {
   "cell_type": "code",
   "execution_count": null,
   "id": "bSeGYY5tI22w",
   "metadata": {
    "colab": {
     "base_uri": "https://localhost:8080/",
     "height": 707
    },
    "id": "bSeGYY5tI22w",
    "outputId": "77561239-363f-4e8c-f515-39681e18f502"
   },
   "outputs": [],
   "source": [
    "pd.crosstab(index=df_status['churn_reason'], columns=df_status['churn_category'])"
   ]
  },
  {
   "cell_type": "markdown",
   "id": "KqQy6YWweJ7Q",
   "metadata": {
    "id": "KqQy6YWweJ7Q"
   },
   "source": [
    "Clearly, 'churn_category' is a grouped version of 'churn_reason'. It seems some observations in 'Poor expertise of online support' are misclassified, and should belong to 'Dissatisfation' instead of 'Other'."
   ]
  },
  {
   "cell_type": "code",
   "execution_count": null,
   "id": "fPZu4KM1n_0t",
   "metadata": {
    "id": "fPZu4KM1n_0t"
   },
   "outputs": [],
   "source": [
    "df_status.loc[df_status['churn_reason'] == \n",
    "              'Poor expertise of online support', \n",
    "              'churn_category'] = 'Dissatisfaction'"
   ]
  },
  {
   "cell_type": "markdown",
   "id": "0rRhPVfZqLhn",
   "metadata": {
    "id": "0rRhPVfZqLhn"
   },
   "source": [
    "At this step, in order to avoid the problem of high cardinality in categorical features, 'churn_reason' won't be considered for the EDA. Anyway, this column won't be dropped, since its data could be very insightfull in some aspects about retention, especially after merging DataFrames. For example, studying if there's a relationship between charges and churning because of 'Price' reasons, or between services an churning because of 'Dissatisfaction' reasons, etc."
   ]
  },
  {
   "cell_type": "markdown",
   "id": "MCqexo5pKJLr",
   "metadata": {
    "id": "MCqexo5pKJLr"
   },
   "source": [
    "\n",
    "\n",
    "It's useful to create a list with 'churn_category' and 'customer_status', to iterate over them when studying bivariate distribution with numerical features. Also, data types in all these columns are converted to Categorical."
   ]
  },
  {
   "cell_type": "code",
   "execution_count": null,
   "id": "KFLqBZuhpfZ5",
   "metadata": {
    "id": "KFLqBZuhpfZ5"
   },
   "outputs": [],
   "source": [
    "cols_cat_status = ['customer_status', 'churn_category']\n",
    "\n",
    "for c in cols_cat_status:\n",
    "  df_status[c] = pd.Categorical(df_status[c])\n",
    "\n",
    "df_status['churn_reason'] = pd.Categorical(df_status['churn_reason'])\n",
    "df_status['churn_label'] = pd.Categorical(df_status['churn_label'])"
   ]
  },
  {
   "cell_type": "markdown",
   "id": "79n-LqvNtRzT",
   "metadata": {
    "id": "79n-LqvNtRzT"
   },
   "source": [
    "Finally, 'customer_status' and 'churn_category' should be consistent."
   ]
  },
  {
   "cell_type": "code",
   "execution_count": null,
   "id": "ZE5zJQbchERZ",
   "metadata": {
    "colab": {
     "base_uri": "https://localhost:8080/",
     "height": 424
    },
    "id": "ZE5zJQbchERZ",
    "outputId": "cf5eb7f9-1a05-428c-83e5-550d2d59cdd9"
   },
   "outputs": [],
   "source": [
    "g = sns.catplot(data=df_status, x='churn_category', col='customer_status', kind='count',\n",
    "                order=df_status['churn_category'].dropna().unique().sort_values(), \n",
    "                col_order=['Churned', 'Stayed', 'Joined'], palette='Set2')\n",
    "\n",
    "plt.suptitle(\"df_status: bivariate distribution between 'churn_category' and 'customer_status'\", \n",
    "             y=1.05)\n",
    "\n",
    "# 45° rotation of all xticks in the catplot\n",
    "\n",
    "for j in range(df_status['customer_status'].nunique()):\n",
    "  g.axes[0, j].tick_params(axis='x', rotation=45)\n",
    "\n",
    "# Sorting unique values ensures that each percentage is in inside the correct bar\n",
    "# Nulls in 'churn_category' are dropped\n",
    "\n",
    "for i, c in enumerate(df_status['churn_category'].dropna().unique().sort_values()):\n",
    "  g.axes[0, 0].text(range(5)[i], (df_status['churn_category']==c).sum() / 2, \n",
    "                    '{:.2%}'.format((df_status['churn_category']==c).sum() / \n",
    "                                    df_status['churn_value'].sum()), \n",
    "                    ha='center', va='center', size=12)\n",
    "\n",
    "plt.show()"
   ]
  },
  {
   "cell_type": "markdown",
   "id": "NDnnqUiyd3Vy",
   "metadata": {
    "id": "NDnnqUiyd3Vy"
   },
   "source": [
    "Almost half of churns are due to 'Competitor' reasons, followed by 'Dissatisfaction' and 'Attitude'. 'Price' and 'Other' at the bottom of the rank."
   ]
  },
  {
   "cell_type": "markdown",
   "id": "xGxC8IQILz2G",
   "metadata": {
    "id": "xGxC8IQILz2G"
   },
   "source": [
    "### **Numerical features**"
   ]
  },
  {
   "cell_type": "markdown",
   "id": "dbk7pEtfP1xC",
   "metadata": {
    "id": "dbk7pEtfP1xC"
   },
   "source": [
    "First of all, it's convenient to look at the statistical measures of each feature."
   ]
  },
  {
   "cell_type": "code",
   "execution_count": null,
   "id": "0mA3yRwSrE32",
   "metadata": {
    "colab": {
     "base_uri": "https://localhost:8080/",
     "height": 174
    },
    "id": "0mA3yRwSrE32",
    "outputId": "07baa927-39b1-4e1e-dcfa-971659dfc932"
   },
   "outputs": [],
   "source": [
    "df_status.describe().T.round(3)"
   ]
  },
  {
   "cell_type": "markdown",
   "id": "7gjObIWcRCrF",
   "metadata": {
    "id": "7gjObIWcRCrF"
   },
   "source": [
    "All numerical features (but not the target) have their mean very close to the median, which suggests they are quite simetric."
   ]
  },
  {
   "cell_type": "markdown",
   "id": "0T-ItyM_S3wK",
   "metadata": {
    "id": "0T-ItyM_S3wK"
   },
   "source": [
    "Naturally, the next step is to analyze correlation among them. Since the target is dichotomic, it's more appropriate to use a non parametric method for correlation."
   ]
  },
  {
   "cell_type": "code",
   "execution_count": null,
   "id": "GZ4_c9R8rd4S",
   "metadata": {
    "colab": {
     "base_uri": "https://localhost:8080/",
     "height": 384
    },
    "id": "GZ4_c9R8rd4S",
    "outputId": "529c248a-901c-4805-f93b-6b984c520b0e"
   },
   "outputs": [],
   "source": [
    "corr_status_k = df_status.corr(method='kendall')\n",
    "\n",
    "sns.heatmap(corr_status_k.round(3), annot=True, vmin=-1, vmax=1, \n",
    "            cmap=sns.diverging_palette(220, 20, as_cmap=True))\n",
    "\n",
    "plt.suptitle('df_status: Kendall correlation', y=1.05)\n",
    "\n",
    "plt.xticks(rotation=45)\n",
    "\n",
    "plt.show()"
   ]
  },
  {
   "cell_type": "markdown",
   "id": "dLq0GZbxTjqk",
   "metadata": {
    "id": "dLq0GZbxTjqk"
   },
   "source": [
    "As expected, the target is correlated positively with 'churn_score' and negatively with 'satisfaction_score'. In the other hand, the correlation between the target and 'cltv' (customer lifetime value) is very near to zero. This is surprising, since it implies at least one of the following situations:\n",
    "- The company isn't good at holding valuable customers.\n",
    "- The company estimates very poorly the true CLTV."
   ]
  },
  {
   "cell_type": "markdown",
   "id": "AWfEe0XCfhwk",
   "metadata": {
    "id": "AWfEe0XCfhwk"
   },
   "source": [
    "Similarly to categorical features, it's convenient to create a list with numerical features, which provides an easy way to study bivariate distribution with categorical features."
   ]
  },
  {
   "cell_type": "code",
   "execution_count": null,
   "id": "pphxwz5H0M3S",
   "metadata": {
    "id": "pphxwz5H0M3S"
   },
   "outputs": [],
   "source": [
    "cols_num_status = list(df_status.select_dtypes(include=np.number).columns)\n",
    "cols_num_status.remove('churn_value')"
   ]
  },
  {
   "cell_type": "markdown",
   "id": "gL6zdQtjMDdM",
   "metadata": {
    "id": "gL6zdQtjMDdM"
   },
   "source": [
    "### **Bivariate distribution (categorical vs numerical)**"
   ]
  },
  {
   "cell_type": "markdown",
   "id": "IwFhyaD6HfPY",
   "metadata": {
    "id": "IwFhyaD6HfPY"
   },
   "source": [
    "The following grid shows:\n",
    "- In the first row, distribution of categorical features.\n",
    "- In the first column, distribution of numerical features.\n",
    "- In the other axes, bivariate distribution of categorical features against numerical ones."
   ]
  },
  {
   "cell_type": "code",
   "execution_count": null,
   "id": "BAr-6rwbzrtO",
   "metadata": {
    "colab": {
     "base_uri": "https://localhost:8080/",
     "height": 1000
    },
    "id": "BAr-6rwbzrtO",
    "outputId": "dd1946bd-486c-4bb0-f310-d7d0ec4239c5"
   },
   "outputs": [],
   "source": [
    "fig, axes = plt.subplots(nrows=len(cols_num_status) + 1, \n",
    "                         ncols=len(cols_cat_status) + 1, \n",
    "                         figsize=((len(cols_cat_status) + 1) * 6, \n",
    "                                  (len(cols_num_status) + 1) * 5), \n",
    "                         sharex='col', sharey='row')\n",
    "\n",
    "plt.suptitle('df_status: bivariate distributions between categorical and numerical features', \n",
    "             y=0.92)\n",
    "\n",
    "# Lists of values for plots arguments\n",
    "\n",
    "discrete = [True, False, False]\n",
    "order = [['Churned', 'Stayed', 'Joined'], \n",
    "         df_status['churn_category'].dropna().unique().sort_values()]\n",
    "palette = ['Set1', 'Set2']\n",
    "\n",
    "# Histplots for numerical features in first column\n",
    "\n",
    "for i, n in enumerate(cols_num_status):\n",
    "  sns.histplot(data=df_status, y=n, ax=axes[i + 1, 0], \n",
    "               discrete=discrete[i])\n",
    "  \n",
    "# Countplots for categorical features in first row\n",
    "\n",
    "for j, c in enumerate(cols_cat_status):\n",
    "  sns.countplot(data=df_status, x=c, ax=axes[0, j + 1], \n",
    "                order=order[j], palette=palette[j])\n",
    "\n",
    "# Boxplots for bivariates distribution between numerical and categorical features\n",
    "\n",
    "for i, n in enumerate(cols_num_status):\n",
    "  for j, c in enumerate(cols_cat_status):\n",
    "    sns.boxplot(data=df_status, x=c, y=n, ax=axes[i + 1, j + 1], \n",
    "                order=order[j], palette=palette[j])\n",
    "\n",
    "# 45° rotation of categorical xticks\n",
    "\n",
    "for k in range(2):\n",
    "  axes[len(cols_num_status), k + 1].set_xticklabels(\n",
    "      labels=axes[len(cols_num_status), k + 1].get_xticklabels(), rotation=45)\n",
    "\n",
    "# Percentages inside bars for discrete histplot\n",
    "\n",
    "for s in df_status['satisfaction_score'].unique():\n",
    "  axes[1, 0].text((df_status['satisfaction_score'] == s).sum() / 2, s, \n",
    "                  '{:.2%}'.format((df_status['satisfaction_score'] == s).sum() / \n",
    "                                  len(df_status)), \n",
    "                  size=14, ha='center', va='center')\n",
    "\n",
    "# Since it's not used, first ax is removed\n",
    "\n",
    "axes[0, 0].remove()\n",
    "\n",
    "plt.show()"
   ]
  },
  {
   "cell_type": "markdown",
   "id": "EYziL5Azt1YW",
   "metadata": {
    "id": "EYziL5Azt1YW"
   },
   "source": [
    "Since 'customer_status' is stretchly related to the target, their bivariate distribution against numerical features are similar (category 'Churned' associated to high values in 'churn_score' and low values in 'satisfaction_score', and independent with 'cltv'). Particularly, all customers with 'satisfaction_score' lesser than 3 churned, and no customer with 'satisfaction_score' greater than 3 churned. On the other hand, there's quite independence in bivariate distribution between 'churn_category' and numerical features."
   ]
  },
  {
   "cell_type": "markdown",
   "id": "0ef4d26e-1964-42f9-b44d-c57e636145b5",
   "metadata": {},
   "source": [
    "From the definition of the tables and features at the start of the notebook, it follows that 'churn_score' is an output of a previous model built by the company. It's interesting to inspect how good it is at predicting churning by itself."
   ]
  },
  {
   "cell_type": "code",
   "execution_count": null,
   "id": "9_trrWmCuEfD",
   "metadata": {
    "colab": {
     "base_uri": "https://localhost:8080/",
     "height": 314
    },
    "id": "9_trrWmCuEfD",
    "outputId": "735a3180-1853-4bde-fb8a-bedf32709926"
   },
   "outputs": [],
   "source": [
    "sns.swarmplot(data=df_status.sample(250), x='customer_status', y='churn_score', \n",
    "              hue='customer_status', hue_order=['Churned', 'Stayed', 'Joined'], \n",
    "              size=3, palette='Set1')\n",
    "\n",
    "plt.suptitle(\"df_status: swarmplot 'churn_score' against 'customer_status'\")\n",
    "\n",
    "plt.show()"
   ]
  },
  {
   "cell_type": "markdown",
   "id": "cT8rSSRp2t8R",
   "metadata": {
    "id": "cT8rSSRp2t8R"
   },
   "source": [
    "The predictions are very good, except for 'churn_score' lower than 80 and higher than 65. Maybe, other features can help to be more accurate."
   ]
  },
  {
   "cell_type": "code",
   "execution_count": null,
   "id": "y6ZJCUDnrQYi",
   "metadata": {
    "colab": {
     "base_uri": "https://localhost:8080/",
     "height": 587
    },
    "id": "y6ZJCUDnrQYi",
    "outputId": "a66eab3a-aa0a-4b08-cdd1-e85e8364d5e0"
   },
   "outputs": [],
   "source": [
    "sns.pairplot(data=df_status.drop(columns='churn_value').sample(150), hue='customer_status', \n",
    "             hue_order=['Churned', 'Stayed', 'Joined'], palette='Set1')\n",
    "\n",
    "plt.suptitle('df_status: pairplot', y=1.05)\n",
    "\n",
    "plt.show()"
   ]
  },
  {
   "cell_type": "markdown",
   "id": "ce90b4a0-1e0f-4f58-88db-c1246c13c318",
   "metadata": {},
   "source": [
    "It comes clear from the plot that just by taking in account 'satisfaction_score', the predictions could be significantly more accurate. Probably, this feature wasn't taken in account in the previous model, and a better one can be designed."
   ]
  },
  {
   "cell_type": "markdown",
   "id": "8qfPokMhfJnt",
   "metadata": {
    "id": "8qfPokMhfJnt"
   },
   "source": [
    "## **Demographics**"
   ]
  },
  {
   "cell_type": "markdown",
   "id": "pvMWgPSKko_F",
   "metadata": {
    "id": "pvMWgPSKko_F"
   },
   "source": [
    "Now it's turn to analyze df_demographics. In this case, there are some features expressed in both categorical and numerical format. The approach for these groups of features will be to inspect them together, in order to perform a descriptive analysis and look if they are consistent, all at the same time."
   ]
  },
  {
   "cell_type": "markdown",
   "id": "Q3sIbwYnngdJ",
   "metadata": {
    "id": "Q3sIbwYnngdJ"
   },
   "source": [
    "### **Dependents**"
   ]
  },
  {
   "cell_type": "markdown",
   "id": "Rv37tmyopvae",
   "metadata": {
    "id": "Rv37tmyopvae"
   },
   "source": [
    "In this case there's a categorical feature which indicates whether the customer has dependents or not, and a numerical feature which indicates how many these dependents are."
   ]
  },
  {
   "cell_type": "code",
   "execution_count": null,
   "id": "5naau101LFYV",
   "metadata": {
    "colab": {
     "base_uri": "https://localhost:8080/",
     "height": 314
    },
    "id": "5naau101LFYV",
    "outputId": "bca32ead-245f-4de9-e05f-4fd2c0d8b560"
   },
   "outputs": [],
   "source": [
    "sns.histplot(data=df_demographics, x='number_of_dependents', \n",
    "             hue='dependents', discrete=True)\n",
    "\n",
    "plt.suptitle(\"df_demographics: bivariate distribution between 'dependents' and 'number_of_dependents'\")\n",
    "\n",
    "# Percentages inside bars for significant values\n",
    "\n",
    "for i in range(4):\n",
    "  plt.text(i, (df_demographics['number_of_dependents']==i).sum() / 2, \n",
    "           '{:.2%}'.format((df_demographics['number_of_dependents']==i).sum() / \n",
    "                           len(df_demographics)), \n",
    "           ha='center', va='center', size=8)\n",
    "\n",
    "plt.show()"
   ]
  },
  {
   "cell_type": "markdown",
   "id": "Nc4QTvdKqej6",
   "metadata": {
    "id": "Nc4QTvdKqej6"
   },
   "source": [
    "The classification is right. A few more than three quarters of the customers doesn't have dependents. For the rest, the number of customers with 1, 2 and 3 dependents is quite similar. Finally, there could be a few customers with more than 3 dependents."
   ]
  },
  {
   "cell_type": "code",
   "execution_count": null,
   "id": "D-EGMk8IEmWj",
   "metadata": {
    "colab": {
     "base_uri": "https://localhost:8080/",
     "height": 237
    },
    "id": "D-EGMk8IEmWj",
    "outputId": "b53cde8f-ceb5-4add-fd2b-219cfc2b9b52"
   },
   "outputs": [],
   "source": [
    "df_demographics.query('number_of_dependents > 3')['number_of_dependents'].value_counts().sort_index().to_frame()"
   ]
  },
  {
   "cell_type": "markdown",
   "id": "HTwnJxyjYVFC",
   "metadata": {
    "id": "HTwnJxyjYVFC"
   },
   "source": [
    "If considered as features of a model which predicts whether the customer churns or not, it seems convenient to keep 'dependents' (encoded as dummy) and drop 'number_of_dependents', because of the strong right asymmetry in the last one."
   ]
  },
  {
   "cell_type": "markdown",
   "id": "NcGu9gIMsS8S",
   "metadata": {
    "id": "NcGu9gIMsS8S"
   },
   "source": [
    "### **Age**"
   ]
  },
  {
   "cell_type": "markdown",
   "id": "REw6zdCfs2jo",
   "metadata": {
    "id": "REw6zdCfs2jo"
   },
   "source": [
    "In this case there's one numerical feature 'age', and two categorical features, 'under_30' and 'senior_citizen', which indicate the age range of customers."
   ]
  },
  {
   "cell_type": "code",
   "execution_count": null,
   "id": "c0fbfe32-1d57-4059-961f-059d4d5c4970",
   "metadata": {
    "colab": {
     "base_uri": "https://localhost:8080/",
     "height": 560
    },
    "id": "c0fbfe32-1d57-4059-961f-059d4d5c4970",
    "outputId": "8c977218-a433-488d-8108-06b1773adb7e"
   },
   "outputs": [],
   "source": [
    "fig, axes = plt.subplots(nrows=2, figsize=(8, 8), sharex='col')\n",
    "\n",
    "plt.suptitle(\"df_demographics: bivariate distributions between 'age' and categorical ages\")\n",
    "\n",
    "# Histplots for 'age' and categorical features related\n",
    "\n",
    "sns.histplot(data=df_demographics, x='age', ax=axes[0], \n",
    "             hue='under_30', binwidth=5, binrange=(15, 84))\n",
    "sns.histplot(data=df_demographics, x='age', ax=axes[1], \n",
    "             hue='senior_citizen', binwidth=5, binrange=(15, 84))\n",
    "\n",
    "# Percentages inside histplots for each category of both categorical features\n",
    "\n",
    "for i, c in enumerate(['under_30', 'senior_citizen']):\n",
    "  for ca in df_demographics[c].unique():\n",
    "    axes[i].text(df_demographics[df_demographics[c] == ca]['age'].mean(), 200, \n",
    "                 '{:.2%}'.format((df_demographics[c] == ca).sum() / \n",
    "                                 len(df_demographics)), \n",
    "                 ha='center', size=12)\n",
    "\n",
    "plt.show()"
   ]
  },
  {
   "cell_type": "markdown",
   "id": "jDFyMctM6lCp",
   "metadata": {
    "id": "jDFyMctM6lCp"
   },
   "source": [
    "A fifth of the customers are under 30, and a few more than 15 % of them are over 65. It can be noted that these categorical features are consistent but overlapped, so it's convenient to join them."
   ]
  },
  {
   "cell_type": "code",
   "execution_count": null,
   "id": "JHGySHLjI4UR",
   "metadata": {
    "id": "JHGySHLjI4UR"
   },
   "outputs": [],
   "source": [
    "cond_list = [(df_demographics['under_30'] == 'Yes'), \n",
    "             (df_demographics['under_30'] == 'No') & \n",
    "             (df_demographics['senior_citizen'] == 'No'), \n",
    "             (df_demographics['senior_citizen'] == 'Yes')]\n",
    "\n",
    "choice_list = ['under_30', 'adult', 'senior_citizen']\n",
    "\n",
    "df_demographics['age_category'] = np.select(cond_list, choice_list)"
   ]
  },
  {
   "cell_type": "markdown",
   "id": "AIRg-5b_7eBC",
   "metadata": {
    "id": "AIRg-5b_7eBC"
   },
   "source": [
    "Once this is done, overlapped features can be dropped. "
   ]
  },
  {
   "cell_type": "code",
   "execution_count": null,
   "id": "6RfddFxU8nVe",
   "metadata": {
    "id": "6RfddFxU8nVe"
   },
   "outputs": [],
   "source": [
    "df_demographics = df_demographics.drop(columns=['under_30', 'senior_citizen'])"
   ]
  },
  {
   "cell_type": "markdown",
   "id": "UJjSzlgkZfQX",
   "metadata": {
    "id": "UJjSzlgkZfQX"
   },
   "source": [
    "If considered as features of models which predict whether the customer churns or not, at least one of them should be dropped, since they represent the same information in a different way. It could be the case that for some kind of models, 'age' performed better, and for other kind of models, 'age_category' performed better. This should be explored through some cross-validation method."
   ]
  },
  {
   "cell_type": "markdown",
   "id": "MZ2bFnL48iG0",
   "metadata": {
    "id": "MZ2bFnL48iG0"
   },
   "source": [
    "Again, it's useful to create a list with the relevant categorical features (the previous ones, but also 'gender' and 'marriage), to iterate over them when studying bivariate distribution with numerical features, and to convert data types in these columns to Categorical."
   ]
  },
  {
   "cell_type": "code",
   "execution_count": null,
   "id": "_p_rslmygNAL",
   "metadata": {
    "id": "_p_rslmygNAL"
   },
   "outputs": [],
   "source": [
    "cols_cat_demographics = ['gender', 'married', 'dependents', 'age_category']\n",
    "\n",
    "for c in cols_cat_demographics[:3]:\n",
    "  df_demographics[c] = pd.Categorical(df_demographics[c])\n",
    "\n",
    "df_demographics['age_category'] = pd.Categorical(df_demographics['age_category'],\n",
    "                                                 categories=['under_30', 'adult', 'senior_citizen'],\n",
    "                                                 ordered=True)"
   ]
  },
  {
   "cell_type": "markdown",
   "id": "jsQS5fcq_HRv",
   "metadata": {
    "id": "jsQS5fcq_HRv"
   },
   "source": [
    "### **Numerical features**"
   ]
  },
  {
   "cell_type": "markdown",
   "id": "B8KR0kBHEkJO",
   "metadata": {
    "id": "B8KR0kBHEkJO"
   },
   "source": [
    "As usual, statistical measures of each feature are displayed."
   ]
  },
  {
   "cell_type": "code",
   "execution_count": null,
   "id": "MXo1lPHKic2f",
   "metadata": {
    "colab": {
     "base_uri": "https://localhost:8080/",
     "height": 112
    },
    "id": "MXo1lPHKic2f",
    "outputId": "9df62efb-fdf3-415a-818f-082cd42648fc"
   },
   "outputs": [],
   "source": [
    "df_demographics.describe().T.round(3)"
   ]
  },
  {
   "cell_type": "markdown",
   "id": "HvBZwvOv_O9y",
   "metadata": {
    "id": "HvBZwvOv_O9y"
   },
   "source": [
    "The fact that 'age' 's mean is extremely close to its median is consistent with the symmetry observed in its histogram. In the same way, the fact that more than three quarters of the customers have no dependents is consistent with the strong right asymmetry observed in 'number_of_dependents' ' histogram."
   ]
  },
  {
   "cell_type": "markdown",
   "id": "tnUOtdEmE5qZ",
   "metadata": {
    "id": "tnUOtdEmE5qZ"
   },
   "source": [
    "In order to look for relations between the numerical features, it's now more appropiate to use Pearson correlation, since there are not dichotomic ones."
   ]
  },
  {
   "cell_type": "code",
   "execution_count": null,
   "id": "ppnZdBDmjLfM",
   "metadata": {
    "colab": {
     "base_uri": "https://localhost:8080/",
     "height": 317
    },
    "id": "ppnZdBDmjLfM",
    "outputId": "564d85e1-1069-4bb1-f1a8-39a7ce796bda"
   },
   "outputs": [],
   "source": [
    "corr_demographics_p = df_demographics.corr()\n",
    "\n",
    "sns.heatmap(corr_demographics_p.round(3), annot=True, vmin=-1, vmax=1, \n",
    "            cmap=sns.diverging_palette(220, 20, as_cmap=True))\n",
    "\n",
    "plt.suptitle('df_demographics: Pearson correlation', y=1.05)\n",
    "\n",
    "plt.show()"
   ]
  },
  {
   "cell_type": "markdown",
   "id": "DL9FqCJoBXYm",
   "metadata": {
    "id": "DL9FqCJoBXYm"
   },
   "source": [
    "Counterintuitively, 'age' and 'number_of_dependents' are linearly uncorrelated, but it still could be the case of a non linear relation between them. The best way to discover it is through a scatter plot."
   ]
  },
  {
   "cell_type": "code",
   "execution_count": null,
   "id": "TgZYtzY1cQ0N",
   "metadata": {
    "colab": {
     "base_uri": "https://localhost:8080/",
     "height": 314
    },
    "id": "TgZYtzY1cQ0N",
    "outputId": "e1802d24-6cba-4da0-9b7a-25f96a3304d7"
   },
   "outputs": [],
   "source": [
    "sns.scatterplot(data=df_demographics.sample(150), x='age', y='number_of_dependents')\n",
    "\n",
    "plt.suptitle(\"df_demographics: bivariate distribution between 'age' and 'number_of_dependents'\")\n",
    "\n",
    "plt.show()"
   ]
  },
  {
   "cell_type": "markdown",
   "id": "UtKIoWqOc7Wh",
   "metadata": {
    "id": "UtKIoWqOc7Wh"
   },
   "source": [
    "It seems that 'age' for customers with at least one dependent is more constrained to working age. Anyway, the relation is not strong enough."
   ]
  },
  {
   "cell_type": "markdown",
   "id": "zpjifUosFZIq",
   "metadata": {
    "id": "zpjifUosFZIq"
   },
   "source": [
    "Again, a list with numerical features is created."
   ]
  },
  {
   "cell_type": "code",
   "execution_count": null,
   "id": "Annj8a4azXPR",
   "metadata": {
    "id": "Annj8a4azXPR"
   },
   "outputs": [],
   "source": [
    "cols_num_demographics = list(df_demographics.select_dtypes(include=np.number).columns)"
   ]
  },
  {
   "cell_type": "markdown",
   "id": "3mvA66K7U3CO",
   "metadata": {
    "id": "3mvA66K7U3CO"
   },
   "source": [
    "### **Bivariate distribution (numerical vs categorical)**"
   ]
  },
  {
   "cell_type": "markdown",
   "id": "6_ZoPhxGVGl9",
   "metadata": {
    "id": "6_ZoPhxGVGl9"
   },
   "source": [
    "The following grid shows:\n",
    "- In the first row, distribution of numerical features.\n",
    "- In the first column, distribution of categorical features.\n",
    "- In the other axes, bivariate distribution of numerical features against categorical ones.\n",
    "- There are quite few customers with 4 or more dependents. For 'number_of_dependents' histogram and box plots, these cases are dropped in order to make the plots more interpletable."
   ]
  },
  {
   "cell_type": "code",
   "execution_count": null,
   "id": "J4kZqD96-yPC",
   "metadata": {
    "colab": {
     "base_uri": "https://localhost:8080/",
     "height": 1000
    },
    "id": "J4kZqD96-yPC",
    "outputId": "c109f9a3-3416-4115-f1f0-16ac8cbbfbe4"
   },
   "outputs": [],
   "source": [
    "fig, axes = plt.subplots(nrows=len(cols_cat_demographics) + 1, \n",
    "                         ncols=len(cols_num_demographics) + 1, \n",
    "                         figsize=((len(cols_num_demographics) + 1) * 5, \n",
    "                                  (len(cols_cat_demographics) + 1) * 4), \n",
    "                         sharex='col', sharey='row')\n",
    "\n",
    "plt.suptitle('df_demographics: bivariate distributions between categorical and numerical features', \n",
    "             y=0.92)\n",
    "\n",
    "# Lists of values for plots arguments \n",
    "\n",
    "data = [df_demographics, df_demographics.query('number_of_dependents <= 3')]\n",
    "discrete = [False, True]\n",
    "binwidth = [10, None]\n",
    "binrange = [(15, 84), None]\n",
    "\n",
    "# Countplots for categorical features in first column\n",
    "\n",
    "for i, c in enumerate(cols_cat_demographics):\n",
    "  sns.countplot(data=df_demographics, y=c, ax=axes[i + 1, 0])\n",
    "\n",
    "# Histplots for numerical features in first row\n",
    "\n",
    "for j, n in enumerate(cols_num_demographics):\n",
    "  sns.histplot(data=data[j], x=n, ax=axes[0, j + 1], \n",
    "               discrete=discrete[j], binwidth=binwidth[j], binrange=binrange[j])\n",
    "\n",
    "# Boxplots for bivariates distribution between numerical and categorical features\n",
    "\n",
    "for i, c in enumerate(cols_cat_demographics):\n",
    "  for j, n in enumerate(cols_num_demographics):\n",
    "    sns.boxplot(data=data[j], x=n, y=c, ax=axes[i + 1, j + 1])\n",
    "\n",
    "# Since it's not used, first ax is removed\n",
    "\n",
    "axes[0, 0].remove()\n",
    "\n",
    "plt.show()"
   ]
  },
  {
   "cell_type": "markdown",
   "id": "-RwLg9vaazx7",
   "metadata": {
    "id": "-RwLg9vaazx7"
   },
   "source": [
    "From this grid:\n",
    "- Box plots 'age' vs 'age_category' and 'number_of_dependents' vs 'dependents' are trivial.\n",
    "- Numerical feature 'age' is quite uncorrelated against both 'gender', 'married', and slightly related to 'dependents' (particularly, higher ages tend to have no dependents).\n",
    "- Numerical feature 'number_of_dependents' is quite uncorrelated against 'gender', and correlated against 'married' (married customers tend to have more dependents) and 'age_category' (customers over 65 tend to have no dependents, and there's no difference between adults and under 30 customers)."
   ]
  },
  {
   "cell_type": "markdown",
   "id": "9yDzP73Gljv5",
   "metadata": {
    "id": "9yDzP73Gljv5"
   },
   "source": [
    "## **Services**"
   ]
  },
  {
   "cell_type": "markdown",
   "id": "8abN423ZnbTc",
   "metadata": {
    "id": "8abN423ZnbTc"
   },
   "source": [
    "Similarly to df_demographics, there's a feature expressed in both categorical and numerical format. The approach will be the same, this is, inspect them together in order to perform a descriptive analysis and look if they are consistent, all at the same time."
   ]
  },
  {
   "cell_type": "markdown",
   "id": "r_Q0lYdbo4TU",
   "metadata": {
    "id": "r_Q0lYdbo4TU"
   },
   "source": [
    "### **Referrals**"
   ]
  },
  {
   "cell_type": "markdown",
   "id": "YxL3vyqs_lAV",
   "metadata": {
    "id": "YxL3vyqs_lAV"
   },
   "source": [
    "In this case there's a categorical feature which indicates whether the customer has referred at least one friend or not, and a numerical feature which indicates how many these referrals are."
   ]
  },
  {
   "cell_type": "code",
   "execution_count": null,
   "id": "s9bzzdJ0mdbo",
   "metadata": {
    "colab": {
     "base_uri": "https://localhost:8080/",
     "height": 314
    },
    "id": "s9bzzdJ0mdbo",
    "outputId": "6cb7e7c4-8017-45f2-a717-e137c4dc7c83"
   },
   "outputs": [],
   "source": [
    "sns.histplot(data=df_services, x='number_of_referrals', \n",
    "             discrete=True, hue='referred_a_friend')\n",
    "\n",
    "plt.suptitle(\"df_services: bivariate distribution between 'referrals' and 'number_of_referrals'\")\n",
    "\n",
    "# Percentages inside bars for significant values\n",
    "\n",
    "for i in range(2):\n",
    "  plt.text(i, (df_services['number_of_referrals']==i).sum() / 2, \n",
    "           '{:.2%}'.format((df_services['number_of_referrals']==i).sum() / \n",
    "                           len(df_services)), \n",
    "           rotation='vertical', ha='center', va='center', size=12)\n",
    "\n",
    "plt.show()"
   ]
  },
  {
   "cell_type": "markdown",
   "id": "R0dWySrmqBYO",
   "metadata": {
    "id": "R0dWySrmqBYO"
   },
   "source": [
    "The classification is right. A few more than half of the customers didn't referred anyone, and 15 % of them referred only one friend. About 30 % referred from 2 to 10 friends, and there could be a few of them who referred more than 10."
   ]
  },
  {
   "cell_type": "code",
   "execution_count": null,
   "id": "vTnU_-vjm-_i",
   "metadata": {
    "colab": {
     "base_uri": "https://localhost:8080/",
     "height": 81
    },
    "id": "vTnU_-vjm-_i",
    "outputId": "60284b7c-5852-4af2-cb79-ad4d5254afec"
   },
   "outputs": [],
   "source": [
    "df_services.query('number_of_referrals > 10')['number_of_referrals'].value_counts().sort_index().to_frame()"
   ]
  },
  {
   "cell_type": "markdown",
   "id": "E2qcFtO9Aw82",
   "metadata": {
    "id": "E2qcFtO9Aw82"
   },
   "source": [
    "If considered as features of a model which predicts whether the customer churns or not, it seems convenient to keep 'referred_a_friend' (encoded as dummy) and drop 'number_of_referrals', because of the strong right asymmetry in the last one."
   ]
  },
  {
   "cell_type": "markdown",
   "id": "c1ZyA8JwKEGI",
   "metadata": {
    "id": "c1ZyA8JwKEGI"
   },
   "source": [
    "### **Numerical features**"
   ]
  },
  {
   "cell_type": "markdown",
   "id": "a0TbILL0gg0r",
   "metadata": {
    "id": "a0TbILL0gg0r"
   },
   "source": [
    "As usual, the starting point is to look at the statistical measures of each features."
   ]
  },
  {
   "cell_type": "code",
   "execution_count": null,
   "id": "isVF9WjkobpJ",
   "metadata": {
    "colab": {
     "base_uri": "https://localhost:8080/",
     "height": 363
    },
    "id": "isVF9WjkobpJ",
    "outputId": "d664cc72-69e3-473a-90d1-51c18b47ed51"
   },
   "outputs": [],
   "source": [
    "df_services.describe().T.round(3)"
   ]
  },
  {
   "cell_type": "markdown",
   "id": "gvdo5Ni0st6x",
   "metadata": {
    "id": "gvdo5Ni0st6x"
   },
   "source": [
    "Since there are so many numerical features, it's convenient to look at their statistical distribution closer."
   ]
  },
  {
   "cell_type": "code",
   "execution_count": null,
   "id": "bsO9jOvh76Pl",
   "metadata": {
    "colab": {
     "base_uri": "https://localhost:8080/",
     "height": 983
    },
    "id": "bsO9jOvh76Pl",
    "outputId": "6bb18a7d-8ff2-42cd-ce54-b6b06054a023"
   },
   "outputs": [],
   "source": [
    "cols_num_services = list(df_services.select_dtypes(include=np.number).columns)\n",
    "\n",
    "fig, axes = plt.subplots(nrows=(len(cols_num_services) + 4) // 5 * 2, ncols=5,\n",
    "                         figsize=(18, ((len(cols_num_services) + 4) // 5) * 8))\n",
    "\n",
    "plt.suptitle('df_services: distribution of numerical features', y=0.92)\n",
    "\n",
    "# List of values for discrete argument in histplot\n",
    "\n",
    "discrete = [True, False, False, False, False, False, False, False, False, False]\n",
    "\n",
    "# Histplots and boxplots in axes layout\n",
    "\n",
    "for i, n in enumerate(cols_num_services):\n",
    "  sns.histplot(data=df_services, x=n, ax=axes[2 * (i // 5), i % 5], \n",
    "               kde=True, discrete=discrete[i])\n",
    "  sns.boxplot(data=df_services, x=n, ax=axes[2 * (i // 5) + 1, i % 5])\n",
    "\n",
    "plt.show()"
   ]
  },
  {
   "cell_type": "markdown",
   "id": "ZOdssskshhxu",
   "metadata": {
    "id": "ZOdssskshhxu"
   },
   "source": [
    "It can be noted that:\n",
    "- Feature 'avg_monthly_long_distance_charges' has a near uniform distribution (except for zero values).\n",
    "- Features 'monthly_charge' and 'tenure_in_months' seems to have bimodal distribution.\n",
    "- Features 'total_charges', 'total_long_distance_charges', 'total_revenue' and 'avg_monthly_gb_download' have right asymmetry. If considered as features of a model that predicts whether the customer churns or not, it could be necessary (depending on the type of model) treat this asymmetry. This could be done (for features with no zero values) taking the log instead.\n",
    "- Feature 'number_of_referrals' has a strong right asymmetry. As said before, if considered as a feature of a model which predicts whether the customer churns or not, the better choice is probably to keep only 'referred_a_friend'.\n",
    "- Features 'total_refunds' and 'total_extra_data_charges' have an extreme right asymmetry. It's convenient to dichotomize them, not only for predictive but also for descriptive purposes."
   ]
  },
  {
   "cell_type": "code",
   "execution_count": null,
   "id": "wnwkekCjp_PU",
   "metadata": {
    "id": "wnwkekCjp_PU"
   },
   "outputs": [],
   "source": [
    "# Dichotomizing 'total_refunds'\n",
    "\n",
    "cond_list = [df_services['total_refunds'] == 0, \n",
    "             df_services['total_refunds'] > 0]\n",
    "\n",
    "choice_list = ['No', 'Yes']\n",
    "\n",
    "df_services['refunds'] = np.select(cond_list, choice_list)\n",
    "\n",
    "df_services['refunds'] = pd.Categorical(df_services['refunds'])"
   ]
  },
  {
   "cell_type": "code",
   "execution_count": null,
   "id": "cbYhyxXRqvx-",
   "metadata": {
    "id": "cbYhyxXRqvx-"
   },
   "outputs": [],
   "source": [
    "# Dichotomizing 'total_extra_data_charges'\n",
    "\n",
    "cond_list = [df_services['total_extra_data_charges'] == 0, \n",
    "             df_services['total_extra_data_charges'] > 0]\n",
    "\n",
    "choice_list = ['No', 'Yes']\n",
    "\n",
    "df_services['extra_data_charges'] = np.select(cond_list, choice_list)\n",
    "\n",
    "df_services['extra_data_charges'] = pd.Categorical(df_services['extra_data_charges'])"
   ]
  },
  {
   "cell_type": "markdown",
   "id": "AfNUaAVmqbw9",
   "metadata": {
    "id": "AfNUaAVmqbw9"
   },
   "source": [
    "Again, since there are not numerical dichotomic features ('refunds' and 'extra_data_charges' will be treated with the categorical ones), the best choice for look at the correlation is Pearson method."
   ]
  },
  {
   "cell_type": "code",
   "execution_count": null,
   "id": "z5dM-KEwoeIA",
   "metadata": {
    "colab": {
     "base_uri": "https://localhost:8080/",
     "height": 877
    },
    "id": "z5dM-KEwoeIA",
    "outputId": "eb59d9a5-9422-426c-c7d8-4e0c28870c80"
   },
   "outputs": [],
   "source": [
    "corr_services_p = df_services.corr()\n",
    "\n",
    "plt.figure(figsize=(15, 12))\n",
    "\n",
    "sns.heatmap(corr_services_p.round(3), annot=True, vmin=-1, vmax=1, \n",
    "            cmap=sns.diverging_palette(220,20,as_cmap=True))\n",
    "\n",
    "plt.suptitle('df_services: Pearson correlation', y=0.92)\n",
    "\n",
    "plt.xticks(rotation=45)\n",
    "\n",
    "plt.show()"
   ]
  },
  {
   "cell_type": "markdown",
   "id": "pDo1YIXTrihM",
   "metadata": {
    "id": "pDo1YIXTrihM"
   },
   "source": [
    "Although several features have strong correlation, there's an important issue here: some of them could be due to accounting relationships. For example, for each customer, the total revenue plus the total refunds given back to him must be equal to the total charges for all services and extras."
   ]
  },
  {
   "cell_type": "code",
   "execution_count": null,
   "id": "u-Dm-SrpISRW",
   "metadata": {
    "colab": {
     "base_uri": "https://localhost:8080/"
    },
    "id": "u-Dm-SrpISRW",
    "outputId": "a1a92574-e3af-4d45-8e0e-0f8df05eb873"
   },
   "outputs": [],
   "source": [
    "print(\"'total_revenue' + 'total_refunds' - ('total_charges' + 'total_long_distance_charges' + 'total_extra_data_charges')\\n\")\n",
    "\n",
    "print('Maximum difference:', \n",
    "      (df_services['total_revenue'] + df_services['total_refunds'] - \n",
    "       (df_services['total_charges'] + \n",
    "        df_services['total_long_distance_charges'] + \n",
    "        df_services['total_extra_data_charges'])).max())\n",
    "print('Minimum difference:', \n",
    "      (df_services['total_revenue'] + df_services['total_refunds'] - \n",
    "       (df_services['total_charges'] + \n",
    "        df_services['total_long_distance_charges'] + \n",
    "        df_services['total_extra_data_charges'])).min())"
   ]
  },
  {
   "cell_type": "markdown",
   "id": "R_pCTETNxVeG",
   "metadata": {
    "id": "R_pCTETNxVeG"
   },
   "source": [
    "Similarly, for each customer, the tenure multiplied by the average monthly charges must equal the total charges."
   ]
  },
  {
   "cell_type": "code",
   "execution_count": null,
   "id": "OE4umbKxSDPp",
   "metadata": {
    "colab": {
     "base_uri": "https://localhost:8080/"
    },
    "id": "OE4umbKxSDPp",
    "outputId": "62644aeb-9f60-4ca2-dcdd-ee1f9502c1b4"
   },
   "outputs": [],
   "source": [
    "print(\"'total_long_distance_charges' - ('tenure_in_months' * 'avg_monthly_long_distance_charges')\\n\")\n",
    "\n",
    "print('Maximum difference:', \n",
    "      (df_services['total_long_distance_charges'] - \n",
    "       (df_services['tenure_in_months'] * \n",
    "        df_services['avg_monthly_long_distance_charges'])).max())\n",
    "print('Minimum difference:', \n",
    "      (df_services['total_long_distance_charges'] - \n",
    "       (df_services['tenure_in_months'] * \n",
    "        df_services['avg_monthly_long_distance_charges'])).min())"
   ]
  },
  {
   "cell_type": "code",
   "execution_count": null,
   "id": "n-NzN3IeSegn",
   "metadata": {
    "colab": {
     "base_uri": "https://localhost:8080/",
     "height": 112
    },
    "id": "n-NzN3IeSegn",
    "outputId": "7725e538-1387-4717-874f-b8d8678ff593"
   },
   "outputs": [],
   "source": [
    "pd.concat((df_services['tenure_in_months'] * df_services['monthly_charge'], \n",
    "           df_services['total_charges']), axis=1).rename(\n",
    "               columns={0: 'tenure_in_months*monthly_charge'}).corr()"
   ]
  },
  {
   "cell_type": "markdown",
   "id": "kCesy7JflgMB",
   "metadata": {
    "id": "kCesy7JflgMB"
   },
   "source": [
    "Once those correlations due to accounting relations are taken off, no significant ones remain."
   ]
  },
  {
   "cell_type": "markdown",
   "id": "FfqyJhdvtopH",
   "metadata": {
    "id": "FfqyJhdvtopH"
   },
   "source": [
    "Finally, 'total_refunds' and 'total_extra_data_charges' can be removed, and categorical 'refunds' and 'extra_data_charges' used instead."
   ]
  },
  {
   "cell_type": "code",
   "execution_count": null,
   "id": "eftZGK8jrbXe",
   "metadata": {
    "id": "eftZGK8jrbXe"
   },
   "outputs": [],
   "source": [
    "df_services.drop(columns=['total_refunds', 'total_extra_data_charges'], inplace=True)\n",
    "\n",
    "cols_num_services = list(df_services.select_dtypes(include=np.number).columns)"
   ]
  },
  {
   "cell_type": "markdown",
   "id": "0NqtPM8hBv0T",
   "metadata": {
    "id": "0NqtPM8hBv0T"
   },
   "source": [
    "### **Categorical features**"
   ]
  },
  {
   "cell_type": "markdown",
   "id": "Tmq0TXGuB1I6",
   "metadata": {
    "id": "Tmq0TXGuB1I6"
   },
   "source": [
    "Once more, it's useful to list the categorical features, to iterate over them when studying their univariate distribution and their bivariate distribution with numerical features. But this time there's a particular situation: several features are subclassifications of other categorical features, since they indicate if the customer has acquired a sub-service that is provided in the context of a broader service. To make the analysis as clear as possible, three list are created: the first lists the broad services and other features, the second lists phone sub-services, and the third lists internet sub-services."
   ]
  },
  {
   "cell_type": "markdown",
   "id": "XR9s5tcEFIQw",
   "metadata": {
    "id": "XR9s5tcEFIQw"
   },
   "source": [
    "Again, data types in these columns are converted to Categorical."
   ]
  },
  {
   "cell_type": "code",
   "execution_count": null,
   "id": "wXR9E1y3lizD",
   "metadata": {
    "id": "wXR9E1y3lizD"
   },
   "outputs": [],
   "source": [
    "cols_cat_services = ['referred_a_friend', 'offer', 'phone_service', 'internet_service', \n",
    "                     'contract', 'paperless_billing', 'payment_method', 'refunds']\n",
    "\n",
    "cols_cat_phone_services = ['multiple_lines']\n",
    "\n",
    "cols_cat_internet_services = ['internet_type', 'online_security', 'online_backup', \n",
    "                              'device_protection_plan', 'premium_tech_support', \n",
    "                              'streaming_tv', 'streaming_movies', 'streaming_music', \n",
    "                              'unlimited_data', 'extra_data_charges']\n",
    "\n",
    "cols_cat_services_subservices = cols_cat_services + cols_cat_phone_services + cols_cat_internet_services\n",
    "\n",
    "for c in (cols_cat_services_subservices):\n",
    "  df_services[c] = pd.Categorical(df_services[c])"
   ]
  },
  {
   "cell_type": "markdown",
   "id": "VOiMBM5sQEj7",
   "metadata": {
    "id": "VOiMBM5sQEj7"
   },
   "source": [
    "As starting point, broad services and other features are plotted ('referrals' is omitted, since it was analyzed before)."
   ]
  },
  {
   "cell_type": "code",
   "execution_count": null,
   "id": "a3DiOFh0D4CD",
   "metadata": {
    "colab": {
     "base_uri": "https://localhost:8080/",
     "height": 754
    },
    "id": "a3DiOFh0D4CD",
    "outputId": "51113728-692b-4390-d35e-4b7f0efc940b"
   },
   "outputs": [],
   "source": [
    "fig, axes = plt.subplots(nrows=(len(cols_cat_services[1:]) + 2) // 3, ncols=3,\n",
    "                         figsize=(18, ((len(cols_cat_services[1:]) + 2) // 3) * 4))\n",
    "\n",
    "plt.suptitle('df_services: distribution of categorical features', y=0.92)\n",
    "\n",
    "# Countplots in axes layout\n",
    "\n",
    "for i, c in enumerate(cols_cat_services[1:]):\n",
    "  sns.countplot(data=df_services, x=c, ax=axes[i // 3, i % 3], \n",
    "                order=df_services[c].unique().sort_values())\n",
    "\n",
    "# Sorting unique values ensures that each percentage is in inside the correct bar\n",
    "\n",
    "  for j, ca in enumerate(df_services[c].unique().sort_values()):\n",
    "    axes[i // 3, i % 3].text(\n",
    "        j, \n",
    "        (df_services[c] == ca).sum() / 2, \n",
    "        '{:.2%}'.format((df_services[c] == ca).sum() / len(df_services)), \n",
    "        ha='center', va='center'\n",
    "        )\n",
    "\n",
    "# Axes that are not used are removed\n",
    "\n",
    "axes[2, 1].remove()\n",
    "axes[2, 2].remove()\n",
    "\n",
    "plt.show()"
   ]
  },
  {
   "cell_type": "markdown",
   "id": "kAzy4ixorDDV",
   "metadata": {
    "id": "kAzy4ixorDDV"
   },
   "source": [
    "From this grid:\n",
    "- A few more than half of the customer didn't accepted any offer.\n",
    "- Nearly a tenth of the customers doesn't have phone service.\n",
    "- A few more than a fifth of the customers doesn't have internet service.\n",
    "- A few more than half of the customers have a month to month contract, and nearly a half of them have a one year or a two years contract.\n",
    "- Three fifths of the customers have paperless billing.\n",
    "- A few more than half of the customers pay with bank withdrawal, two fifths of them do it with credit card, and a few of them do it with mailed check.\n",
    "- Nearly 7.5 % of the customers received some refunds from the company."
   ]
  },
  {
   "cell_type": "markdown",
   "id": "B03iVgDUPYiM",
   "metadata": {
    "id": "B03iVgDUPYiM"
   },
   "source": [
    "#### **Phone sub-services**"
   ]
  },
  {
   "cell_type": "markdown",
   "id": "x1OE5V6Q6Djq",
   "metadata": {
    "id": "x1OE5V6Q6Djq"
   },
   "source": [
    "When analyzing a sub-service, an important point is how the categories in it are related with the categories in its broader service. In the case of 'phone_service', there's only one sub-service related, 'multiple_lines'."
   ]
  },
  {
   "cell_type": "code",
   "execution_count": null,
   "id": "1fcd1aBPUFer",
   "metadata": {
    "colab": {
     "base_uri": "https://localhost:8080/",
     "height": 368
    },
    "id": "1fcd1aBPUFer",
    "outputId": "cd782d92-3963-49de-ffc9-63a319da5908"
   },
   "outputs": [],
   "source": [
    "g = sns.catplot(data=df_services, x='multiple_lines', col='phone_service', kind='count', \n",
    "                aspect=1.25, order=df_services['multiple_lines'].unique().sort_values(),\n",
    "                col_order=df_services['phone_service'].unique().sort_values())\n",
    "\n",
    "plt.suptitle(\"df_services: bivariate distribution between 'multiple_lines' and 'phone_service'\", \n",
    "             y=1.05)\n",
    "\n",
    "style = dict(ha='center', size=12)\n",
    "\n",
    "# Percentages are taken to customers that have (or not) 'phone_service'\n",
    "\n",
    "for i, ca in enumerate(df_services['phone_service'].unique().sort_values()):\n",
    "  for j, subca in enumerate(df_services['multiple_lines'].unique().sort_values()):\n",
    "    if ((df_services['phone_service'] == ca) & (df_services['multiple_lines'] == subca)).sum() > 0: \n",
    "      g.axes[0, i].text(j, ((df_services['phone_service'] == ca) & (df_services['multiple_lines'] == subca)).sum() / 3 * 2, \n",
    "                        '% all customers: {:.2%}'.format(\n",
    "                            ((df_services['phone_service'] == ca) & (df_services['multiple_lines'] == subca)).sum() / \n",
    "                            len(df_services)), **style)\n",
    "      g.axes[0, i].text(j, ((df_services['phone_service'] == ca) & (df_services['multiple_lines'] == subca)).sum() / 3, \n",
    "                        '% phone service {}: {:.2%}'.format(ca, \n",
    "                            ((df_services['phone_service'] == ca) & (df_services['multiple_lines'] == subca)).sum() / \n",
    "                            (df_services['phone_service'] == ca).sum()), **style)\n",
    "      \n",
    "plt.show()"
   ]
  },
  {
   "cell_type": "markdown",
   "id": "K4iASE2H7JKa",
   "metadata": {
    "id": "K4iASE2H7JKa"
   },
   "source": [
    "It's clear that those customers that don't have phone service, either could have multiple lines. But an issue arises because the same category is used for customers that have phone service but don't have multiple line. Due to this, it's essential to analyze both 'phone_service' and 'multiple_lines' together."
   ]
  },
  {
   "cell_type": "markdown",
   "id": "WHkjW8-AB4-R",
   "metadata": {
    "id": "WHkjW8-AB4-R"
   },
   "source": [
    "For customers that have phone service, a few more than half of them don't have multiple lines."
   ]
  },
  {
   "cell_type": "markdown",
   "id": "wXk4TZ91PmzR",
   "metadata": {
    "id": "wXk4TZ91PmzR"
   },
   "source": [
    "#### **Internet sub-services**"
   ]
  },
  {
   "cell_type": "markdown",
   "id": "ggcfP-11BmRJ",
   "metadata": {
    "id": "ggcfP-11BmRJ"
   },
   "source": [
    "In the case of 'internet_service', there are several sub-services related."
   ]
  },
  {
   "cell_type": "code",
   "execution_count": null,
   "id": "QT3ewGDDUhdx",
   "metadata": {
    "colab": {
     "base_uri": "https://localhost:8080/",
     "height": 1000
    },
    "id": "QT3ewGDDUhdx",
    "outputId": "ae450f90-7529-4dd7-f326-21a4cbd65f01"
   },
   "outputs": [],
   "source": [
    "style = dict(ha='center', size=12)\n",
    "\n",
    "for c in cols_cat_internet_services:\n",
    "  g = sns.catplot(data=df_services, x=c, col='internet_service', kind='count', \n",
    "                  aspect=1.5, order=df_services[c].unique().sort_values(), \n",
    "                  col_order=df_services['internet_service'].unique().sort_values())\n",
    "  \n",
    "  plt.suptitle(\"df_services: bivariate distribution between '\" + c + \"' and 'internet_service'\", \n",
    "               y=1.05)\n",
    "\n",
    "  # Percentages are taken to customers that have (or not) 'internet_service'\n",
    "  \n",
    "  for i, ca in enumerate(df_services['internet_service'].unique().sort_values()):\n",
    "    for j, subca in enumerate(df_services[c].unique().sort_values()):\n",
    "      if ((df_services['internet_service'] == ca) & (df_services[c] == subca)).sum() > 0:\n",
    "        g.axes[0, i].text(j, ((df_services['internet_service'] == ca) & (df_services[c] == subca)).sum() / 3 * 2, \n",
    "                          '% all cust: {:.2%}'.format(\n",
    "                              ((df_services['internet_service'] == ca) & (df_services[c] == subca)).sum() / \n",
    "                              len(df_services)), **style)\n",
    "        g.axes[0, i].text(j, ((df_services['internet_service'] == ca) & (df_services[c] == subca)).sum() / 3, \n",
    "                          '% int serv {}: {:.2%}'.format(ca, \n",
    "                              ((df_services['internet_service'] == ca) & (df_services[c] == subca)).sum() / \n",
    "                              (df_services['internet_service'] == ca).sum()), **style)\n",
    "        \n",
    "  plt.show()"
   ]
  },
  {
   "cell_type": "markdown",
   "id": "W5XZ_vpfCaz-",
   "metadata": {
    "id": "W5XZ_vpfCaz-"
   },
   "source": [
    "As before, it's essential to analyze each sub-service together with 'internet_service'. From the grid, and for customers that have internet service:\n",
    "- A few more than half of them are connected by Fiber Optic, three tenths of them are connected by DSL and the rest are connected by Cable.\n",
    "- Most of them have unlimited data.\n",
    "- Most of them have paid extra data charges.\n",
    "- Half of them have streaming TV.\n",
    "- Half of them have streaming movies.\n",
    "- Nearly half of them have streaming music.\n",
    "- Nearly half of them have online backup.\n",
    "- Nearly half of them have device protection plan.\n",
    "- A few more than a third of them have online security.\n",
    "- A few more than a third of them have premium tech support."
   ]
  },
  {
   "cell_type": "markdown",
   "id": "lDymyqPRV6PA",
   "metadata": {
    "id": "lDymyqPRV6PA"
   },
   "source": [
    "Going further, it's possible to analyze bivariate distribution between 'internet_type' and each sub-service:"
   ]
  },
  {
   "cell_type": "code",
   "execution_count": null,
   "id": "308L3L0VX4l7",
   "metadata": {
    "colab": {
     "base_uri": "https://localhost:8080/",
     "height": 1000
    },
    "id": "308L3L0VX4l7",
    "outputId": "0def3629-d884-4656-b486-d8e1f2475030"
   },
   "outputs": [],
   "source": [
    "style = dict(ha='center', size=10)\n",
    "\n",
    "for c in cols_cat_internet_services[1:]:\n",
    "  g = sns.catplot(data=df_services, x=c, col='internet_type', kind='count', \n",
    "                  aspect=0.75, order=df_services[c].unique().sort_values(), \n",
    "                  col_order=df_services['internet_type'].unique().sort_values())\n",
    "  \n",
    "  plt.suptitle(\"df_services: bivariate distribution between '\" + c + \"' and 'internet_type'\", \n",
    "               y=1.05)\n",
    "  \n",
    "  # Percentages are taken to customers that have each type of internet service\n",
    "  \n",
    "  for i, ca in enumerate(df_services['internet_type'].unique().sort_values()):\n",
    "    for j, subca in enumerate(df_services[c].unique().sort_values()):\n",
    "      if ((df_services['internet_type'] == ca) & (df_services[c] == subca)).sum() > 0:\n",
    "        g.axes[0, i].text(j, ((df_services['internet_type'] == ca) & (df_services[c] == subca)).sum() / 3 * 2, \n",
    "                          '% all cust: {:.2%}'.format(\n",
    "                              ((df_services['internet_type'] == ca) & (df_services[c] == subca)).sum() / \n",
    "                              len(df_services)), **style)\n",
    "        g.axes[0, i].text(j, ((df_services['internet_type'] == ca) & (df_services[c] == subca)).sum() / 3, \n",
    "                          '% int serv {}: {:.2%}'.format(ca, \n",
    "                              ((df_services['internet_type'] == ca) & (df_services[c] == subca)).sum() / \n",
    "                              (df_services['internet_type'] == ca).sum()), **style)\n",
    "        \n",
    "  plt.show()"
   ]
  },
  {
   "cell_type": "markdown",
   "id": "UHFAJKz9ioA7",
   "metadata": {
    "id": "UHFAJKz9ioA7"
   },
   "source": [
    "From this grid:\n",
    "- Customers with Cable or DLS internet service are more likely to contract 'online_security' and 'premium_tech_support' than customers with Fiber Optic.\n",
    "- Customers with Fiber Optic internet service are more likely to use the streaming services (the company does not charge an additional fee for them).\n",
    "- Sub-services 'online_backup', 'device_protection_plan', 'unlimited_data' and 'extra_data_charges' have the same distribution among the three types of internet service."
   ]
  },
  {
   "cell_type": "markdown",
   "id": "aHJCK2KQ20HP",
   "metadata": {
    "id": "aHJCK2KQ20HP"
   },
   "source": [
    "It can be noted that 'unlimited_data' and 'extra_data_charges' seem to have almost the same distribution, but some labels are changed."
   ]
  },
  {
   "cell_type": "code",
   "execution_count": null,
   "id": "XncnGE6yzyIm",
   "metadata": {
    "colab": {
     "base_uri": "https://localhost:8080/",
     "height": 174
    },
    "id": "XncnGE6yzyIm",
    "outputId": "9036d9dd-6b83-4d7e-d4b7-64e988b94a57"
   },
   "outputs": [],
   "source": [
    "pd.crosstab(index=[df_services['unlimited_data'], df_services['extra_data_charges']], \n",
    "            columns=df_services['internet_service'])\n",
    "            "
   ]
  },
  {
   "cell_type": "markdown",
   "id": "myTPyM4QJgxw",
   "metadata": {
    "id": "myTPyM4QJgxw"
   },
   "source": [
    "This is because customers who don't have internet service can't be suscribed to unlimited data sub-service, nor pay extra data charges. On the other hand, for customers who have internet service, those who have unlimited data don't pay extra data charges, and those who haven't suscribed this sub-service tend to pay extra data charges. A few ones of them don't have unlimited data and don't pay extra data charges. This could be due to low 'avg_monthly_gb_download'."
   ]
  },
  {
   "cell_type": "code",
   "execution_count": null,
   "id": "S7dzNMJI4XwH",
   "metadata": {
    "colab": {
     "base_uri": "https://localhost:8080/",
     "height": 374
    },
    "id": "S7dzNMJI4XwH",
    "outputId": "66b7666a-dd55-4575-b330-82b6b15f3fa0"
   },
   "outputs": [],
   "source": [
    "fig, axes = plt.subplots(ncols=2, figsize=(12, 5), sharey='row')\n",
    "\n",
    "plt.suptitle(\"df_services: bivariate distribution between 'extra_data_charges' and 'avg_monthly_gb_download' for 'internet_service'=='Yes' and 'unlimited_data'=='No'\")\n",
    "\n",
    "data=df_services.query(\"internet_service=='Yes' and unlimited_data=='No'\")\n",
    "\n",
    "sns.kdeplot(data=data, y='avg_monthly_gb_download', hue='extra_data_charges', ax=axes[0])\n",
    "sns.violinplot(data=data, x='extra_data_charges', y='avg_monthly_gb_download', ax=axes[1])\n",
    "\n",
    "plt.show()"
   ]
  },
  {
   "cell_type": "markdown",
   "id": "mjaUtKOM8MhY",
   "metadata": {
    "id": "mjaUtKOM8MhY"
   },
   "source": [
    "Counterintuitively, the relation is not clear. Maybe these customers have a bonification that's not specified in the dataset. Anyway, since the cases are really few, 'extra_data_charges' gives almost the same information that 'unlimited_data', and can be dropped for further analyses."
   ]
  },
  {
   "cell_type": "code",
   "execution_count": null,
   "id": "GoRlZmfu4dr9",
   "metadata": {
    "id": "GoRlZmfu4dr9"
   },
   "outputs": [],
   "source": [
    "df_services.drop(columns='extra_data_charges', inplace=True)\n",
    "\n",
    "cols_cat_internet_services = ['internet_type', 'online_security', 'online_backup', \n",
    "                              'device_protection_plan', 'premium_tech_support', \n",
    "                              'streaming_tv', 'streaming_movies', 'streaming_music', \n",
    "                              'unlimited_data']\n",
    "\n",
    "cols_cat_services_subservices = cols_cat_services + cols_cat_phone_services + cols_cat_internet_services"
   ]
  },
  {
   "cell_type": "markdown",
   "id": "VybDyNetH9u6",
   "metadata": {
    "id": "VybDyNetH9u6"
   },
   "source": [
    "#### **Multiple Correspondence Analysis**"
   ]
  },
  {
   "cell_type": "markdown",
   "id": "nZ3m_nETFaTS",
   "metadata": {
    "id": "nZ3m_nETFaTS"
   },
   "source": [
    "Although it's interesting to know about the multivariate distribution of all sub-services, it would be very painful to plot each one against each one of them. Nonetheless, there's an multivariate statistical method that allows to see, not without some loss of information, all the categories in a 2D plot. "
   ]
  },
  {
   "cell_type": "code",
   "execution_count": null,
   "id": "a41j1M7FJgJO",
   "metadata": {
    "colab": {
     "base_uri": "https://localhost:8080/",
     "height": 953
    },
    "id": "a41j1M7FJgJO",
    "outputId": "1df7348a-6792-4c19-8796-7066d417dde4"
   },
   "outputs": [],
   "source": [
    "mca_services = MCA(n_components=len(cols_cat_services_subservices))\n",
    "mca_services = mca_services.fit(df_services[cols_cat_services_subservices])\n",
    "\n",
    "ax = mca_services.plot_coordinates(\n",
    "     X = df_services[cols_cat_services_subservices],\n",
    "     ax=None,\n",
    "     figsize=(16, 16),\n",
    "     show_row_points=False,\n",
    "     row_points_size=7,\n",
    "     show_row_labels=False,\n",
    "     show_column_points=True,\n",
    "     column_points_size=40,\n",
    "     show_column_labels=True,\n",
    "     legend_n_cols=1\n",
    "     )"
   ]
  },
  {
   "cell_type": "markdown",
   "id": "Yk2aF4ALKjWc",
   "metadata": {
    "id": "Yk2aF4ALKjWc"
   },
   "source": [
    "First of all, it's important to note that only 28 % of the information is captured in this plot (the most inertia is in the horizontal axis)"
   ]
  },
  {
   "cell_type": "markdown",
   "id": "gmDBVqnpK5C2",
   "metadata": {
    "id": "gmDBVqnpK5C2"
   },
   "source": [
    "The closer the categories are in the plot (especially though the horizontal axis), there are more customers that belong to both categories at the same time. It seems that some categories can be grouped in clusters, for example:\n",
    "- Multiple lines with cable and DSL.\n",
    "- Streaming services.\n",
    "- Online backup and device protection plan.\n",
    "- Online security and premium tech support.\n",
    "- Internet service and unlimited data.\n",
    "- Bank withdrawal and paperless billing.\n",
    "- Credit card and no paperless billing.\n",
    "- Referred a friend and one year contract.\n"
   ]
  },
  {
   "cell_type": "markdown",
   "id": "VIEKwIfK8gqd",
   "metadata": {
    "id": "VIEKwIfK8gqd"
   },
   "source": [
    "### **Bivariate distribution (categorical vs numerical)**"
   ]
  },
  {
   "cell_type": "markdown",
   "id": "XZ4tGvgk9FN3",
   "metadata": {
    "id": "XZ4tGvgk9FN3"
   },
   "source": [
    "The following grid shows:\n",
    "- In the first row, distribution of categorical features.\n",
    "- In the first column, distribution of numerical features.\n",
    "- In the other axes, bivariate distribution of categorical features against numerical ones."
   ]
  },
  {
   "cell_type": "code",
   "execution_count": null,
   "id": "dT8JA8EjwsGF",
   "metadata": {
    "colab": {
     "base_uri": "https://localhost:8080/",
     "height": 1000
    },
    "id": "dT8JA8EjwsGF",
    "outputId": "8a74c477-ac3c-4e08-bd56-73c0457f8cad"
   },
   "outputs": [],
   "source": [
    "fig, axes = plt.subplots(nrows=len(cols_num_services) + 1, \n",
    "                         ncols=len(cols_cat_services) + 1, \n",
    "                         figsize=((len(cols_cat_services) + 1) * 4, \n",
    "                                  (len(cols_num_services) + 1) * 4), \n",
    "                         sharex='col', sharey='row')\n",
    "\n",
    "plt.suptitle('df_services: bivariate distributions between categorical and numerical features', \n",
    "             y=0.9)\n",
    "\n",
    "# Lists of values for plots arguments\n",
    "\n",
    "discrete = [True, False, False, False, False, False, False, False, False, False]\n",
    "order = [df_services[c].unique().sort_values() for c in cols_cat_services]\n",
    "\n",
    "# Histplots for numerical features in first column\n",
    "\n",
    "for i, n in enumerate(cols_num_services):\n",
    "  sns.histplot(data=df_services, y=n, ax=axes[i + 1, 0], \n",
    "               discrete=discrete[i])\n",
    "  \n",
    "# Countplots for categorical features in first row\n",
    "\n",
    "for j, c in enumerate(cols_cat_services):\n",
    "  sns.countplot(data=df_services, x=c, ax=axes[0, j + 1], \n",
    "                order=order[j])\n",
    "\n",
    "# Boxplots for bivariates distribution between numerical and categorical features\n",
    "\n",
    "for i, n in enumerate(cols_num_services):\n",
    "  for j, c in enumerate(cols_cat_services):\n",
    "    sns.boxplot(data=df_services, x=c, y=n, ax=axes[i + 1, j + 1], \n",
    "                order=order[j])\n",
    "\n",
    "# 45° rotation of categorical xticks\n",
    "\n",
    "for k in range(len(cols_cat_services)):\n",
    "  axes[len(cols_num_services), k + 1].set_xticklabels(\n",
    "      labels=axes[len(cols_num_services), k + 1].get_xticklabels(), rotation=45)\n",
    "\n",
    "# Since it's not used, first ax is removed\n",
    "\n",
    "axes[0, 0].remove()\n",
    "\n",
    "plt.show()"
   ]
  },
  {
   "cell_type": "markdown",
   "id": "t62jmmNf8o7e",
   "metadata": {
    "id": "t62jmmNf8o7e"
   },
   "source": [
    "Despite the grid is very hard to analyze because of there are several categorical and numerical features, some interesting insights can be taken:\n",
    "- Offers A to E are intended for tenure segmented customers. Offer A is intended for high tenure customers and Offer E is intended for low tenure customers. Knowing this, it seems a good choice to dichotomyze 'offer', and just show whether the customer has accepted the offer or not.\n",
    "- Customers with high tenure tend to have a two years contract, customers with medium tenure tend to have a one year contract, and customers with low tenure tend to have a month to month contract.\n",
    "- Customers with low tenure tend to have a mailed check payment method.\n",
    "- Customers with high tenure tend to have referred more friends.\n",
    "- Customers with high monthly charge tend to have paperless billing and to pay with bank withdrawal.\n",
    "- Of course, the monthly charge is related to the services that the customer has suscribed.\n",
    "- Since the tenure and the monthly charge are closely related to total amounts, the relation between the total amounts and features mentioned above are quite similar.\n",
    "- The average monthly GB download and the average monthly long distance charges have not significant relations with categorical features."
   ]
  },
  {
   "cell_type": "code",
   "execution_count": null,
   "id": "hlAyKiYZBMtm",
   "metadata": {
    "id": "hlAyKiYZBMtm"
   },
   "outputs": [],
   "source": [
    "# Dichotomizing 'offer'\n",
    "\n",
    "cond_list = [df_services['offer'] == 'None', \n",
    "             df_services['offer'] != 'None']\n",
    "\n",
    "choice_list = ['No', 'Yes']\n",
    "\n",
    "df_services['offer'] = np.select(cond_list, choice_list)\n",
    "\n",
    "df_services['offer'] = pd.Categorical(df_services['offer'])"
   ]
  },
  {
   "cell_type": "markdown",
   "id": "PcZZVjqJrAca",
   "metadata": {
    "id": "PcZZVjqJrAca"
   },
   "source": [
    "It's known from previous steps than 55 % of customers didn't accept any offer, so it's no necessary to plot the feature again."
   ]
  },
  {
   "cell_type": "markdown",
   "id": "STwltGBdowcC",
   "metadata": {
    "id": "STwltGBdowcC"
   },
   "source": [
    "## **Population**"
   ]
  },
  {
   "cell_type": "markdown",
   "id": "RODNJwMz1Plp",
   "metadata": {
    "id": "RODNJwMz1Plp"
   },
   "source": [
    "This DataFrame doesn't hold any data about customers, but combined with df_location, it can help to understand penetration of the company throughtout the state. As starting point, it's useful to see how population in California is distributed. Note that in this case, population is related to each zip code in the state, but it can also be related to other levels, like cities or counties."
   ]
  },
  {
   "cell_type": "code",
   "execution_count": null,
   "id": "F0q7vOBGW5iD",
   "metadata": {
    "colab": {
     "base_uri": "https://localhost:8080/",
     "height": 81
    },
    "id": "F0q7vOBGW5iD",
    "outputId": "7c3fcd9b-222c-481a-c47d-f0369f5be81c"
   },
   "outputs": [],
   "source": [
    "df_population[['population']].describe().T.round(3)"
   ]
  },
  {
   "cell_type": "code",
   "execution_count": null,
   "id": "FBMwEx7QvKWv",
   "metadata": {
    "colab": {
     "base_uri": "https://localhost:8080/",
     "height": 314
    },
    "id": "FBMwEx7QvKWv",
    "outputId": "ab141db9-8921-43d8-aa15-4dc406822d45"
   },
   "outputs": [],
   "source": [
    "sns.histplot(data=df_population, x='population')\n",
    "\n",
    "plt.suptitle(\"df_population: distribution of 'population' for districts in California\")\n",
    "\n",
    "plt.show()"
   ]
  },
  {
   "cell_type": "markdown",
   "id": "rwYxvFfl3EgR",
   "metadata": {
    "id": "rwYxvFfl3EgR"
   },
   "source": [
    "As expected, it has right symmetry (there are a few districts with high population, and several ones with lower population)."
   ]
  },
  {
   "cell_type": "markdown",
   "id": "WpFlXLI1o1N0",
   "metadata": {
    "id": "WpFlXLI1o1N0"
   },
   "source": [
    "## **Location**"
   ]
  },
  {
   "cell_type": "markdown",
   "id": "Zvj5e27b5Ca0",
   "metadata": {
    "id": "Zvj5e27b5Ca0"
   },
   "source": [
    "Previously, it was said that 'df_population' and 'df_location' could be merged with a one-to-many relation, so that for each customer, it can be known the latitude, longitude and population in the district, and also to which city the district belongs to."
   ]
  },
  {
   "cell_type": "code",
   "execution_count": null,
   "id": "8d778eee-e335-485a-aefa-a72329df0e7a",
   "metadata": {
    "colab": {
     "base_uri": "https://localhost:8080/",
     "height": 206
    },
    "id": "8d778eee-e335-485a-aefa-a72329df0e7a",
    "outputId": "1abbecbf-3869-4815-d527-0c9b5aa4306a"
   },
   "outputs": [],
   "source": [
    "df_loc_pop = pd.merge(df_location, df_population.drop(columns='id'), \n",
    "                      how='left', on='zip_code')\n",
    "\n",
    "df_loc_pop.sample(5)"
   ]
  },
  {
   "cell_type": "markdown",
   "id": "UDOJ6JHjHd4Q",
   "metadata": {
    "id": "UDOJ6JHjHd4Q"
   },
   "source": [
    "From the point of view of relational databases design, it would have been more expectable that df_location only informed the zip code to which every singles customer belongs, and another DataFrame informed not only the population in each zip code, but also the name of the city and location. This pattern would prevent from inconsistences that could arise, for example, if in df_location, two customers had the same zip code but different cities (or latitudes, or longitudes)."
   ]
  },
  {
   "cell_type": "markdown",
   "id": "GVxNS1IodP61",
   "metadata": {
    "id": "GVxNS1IodP61"
   },
   "source": [
    "From an analytical point of view, this design would also allow to study the distribution of population with a geographical dimension, previous to analyze how customers are distributed throughout the state."
   ]
  },
  {
   "cell_type": "markdown",
   "id": "y8ztdU2yGyZN",
   "metadata": {
    "id": "y8ztdU2yGyZN"
   },
   "source": [
    "### **Districts**"
   ]
  },
  {
   "cell_type": "markdown",
   "id": "JeAZr_Ed9GsJ",
   "metadata": {
    "id": "JeAZr_Ed9GsJ"
   },
   "source": [
    "Anyway, a DataFrame like this can be created, through dropping duplicated rows from df_loc_pop. For semantical purposes, the areas to which each zip code belongs will be called districts."
   ]
  },
  {
   "cell_type": "code",
   "execution_count": null,
   "id": "7BocBj2otHwC",
   "metadata": {
    "colab": {
     "base_uri": "https://localhost:8080/",
     "height": 497
    },
    "id": "7BocBj2otHwC",
    "outputId": "650f1513-09e2-4530-bd43-ee631197dc02"
   },
   "outputs": [],
   "source": [
    "df_districts = df_loc_pop.drop(\n",
    "    columns=['customer_id', 'lat_long']\n",
    "    ).drop_duplicates()\n",
    "\n",
    "df_districts.rename(columns={'population': 'population_district'}, \n",
    "                    inplace=True)\n",
    "\n",
    "print('Number of rows in df_districts:', len(df_districts), '\\n')\n",
    "\n",
    "print(\"unique_% for 'zip_code': {:.2%}\\n\".format(\n",
    "    df_districts['zip_code'].nunique() / len(df_districts)\n",
    "    ))\n",
    "\n",
    "df_districts.sort_values(by='population_district', ascending=False)"
   ]
  },
  {
   "cell_type": "markdown",
   "id": "Oj3pUep1Ps5Q",
   "metadata": {
    "id": "Oj3pUep1Ps5Q"
   },
   "source": [
    "The fact that all values in 'zip_code' are distinct means that 'cities', 'latitude' and 'longitude' are consistent respect to 'zip_code', in the sense descripted in the previous point. However, the oppossite isn't true, since big cities involve several zip codes."
   ]
  },
  {
   "cell_type": "code",
   "execution_count": null,
   "id": "D-PS2viwxM8N",
   "metadata": {
    "colab": {
     "base_uri": "https://localhost:8080/"
    },
    "id": "D-PS2viwxM8N",
    "outputId": "0f5aee0b-cc18-430c-a1a4-6c50a30ab771"
   },
   "outputs": [],
   "source": [
    "print(\"unique_% for 'city': {:.2%}\".format(\n",
    "    df_districts['city'].nunique() / len(df_districts)\n",
    "    ))"
   ]
  },
  {
   "cell_type": "markdown",
   "id": "9fr-jjztgWXa",
   "metadata": {
    "id": "9fr-jjztgWXa"
   },
   "source": [
    "Values in column 'city' are not all distinct. It's possible, through groupby and filter operations, to list cities with more than one zip code."
   ]
  },
  {
   "cell_type": "code",
   "execution_count": null,
   "id": "BjHKwiuKsULW",
   "metadata": {
    "colab": {
     "base_uri": "https://localhost:8080/",
     "height": 467
    },
    "id": "BjHKwiuKsULW",
    "outputId": "ee476640-41a6-44fe-ff0a-b44f67ba5061"
   },
   "outputs": [],
   "source": [
    "def filter_multiple_zipcodes(df):\n",
    "\n",
    "    '''\n",
    "    Filter function passed through filter method of groupby object.\n",
    "    For each key value of the groupby object, it returns the rows\n",
    "    whose values in 'zip_code' are not all distinct.\n",
    "    '''\n",
    "\n",
    "    return df['zip_code'].nunique() > 1\n",
    "\n",
    "\n",
    "print('Number of cities in California with more than one zip code:', \n",
    "      len(df_districts.groupby(by='city').filter(\n",
    "          filter_multiple_zipcodes\n",
    "          ).groupby(by='city')[['zip_code']].nunique()), '\\n\\nCities:\\n')\n",
    "\n",
    "df_districts.groupby(by='city').filter(\n",
    "    filter_multiple_zipcodes\n",
    "    ).groupby(by='city')[['zip_code']].nunique().sort_values(\n",
    "        by='zip_code', ascending=False\n",
    "        ).head(10)"
   ]
  },
  {
   "cell_type": "markdown",
   "id": "ohhkA5lWCCOR",
   "metadata": {
    "id": "ohhkA5lWCCOR"
   },
   "source": [
    "### **Cities**"
   ]
  },
  {
   "cell_type": "markdown",
   "id": "Nsq-3Go72P4J",
   "metadata": {
    "id": "Nsq-3Go72P4J"
   },
   "source": [
    "Keeping this in mind, it seems reasonable to aggregate population for each city. Since the location isn't available for cities, but only for districts, it will be imputed as the mean of 'latitude' and 'longitude'. But first, it's necessary to check there are no cities with repeated names throughout the state. One way to do this is to calculate:\n",
    "- The difference between maximum and minimum latitude (longitude) as a proxy of the distance between north and south (east and west) limits of the state.\n",
    "- For each district, the difference between its latitude (longitude) and the mean for the city to which it belongs, and then, look at the resulting distribution."
   ]
  },
  {
   "cell_type": "code",
   "execution_count": null,
   "id": "1AaHg9L1MH-6",
   "metadata": {
    "colab": {
     "base_uri": "https://localhost:8080/"
    },
    "id": "1AaHg9L1MH-6",
    "outputId": "c1a695cd-52d9-4c34-c147-4bf3529364c4"
   },
   "outputs": [],
   "source": [
    "print(\"Difference between maximum and minimum 'latitude':\", \n",
    "      df_districts['latitude'].max() - df_districts['latitude'].min())\n",
    "print(\"Difference between maximum and minimum 'longitude':\", \n",
    "      df_districts['longitude'].max() - df_districts['longitude'].min())"
   ]
  },
  {
   "cell_type": "code",
   "execution_count": null,
   "id": "nJWxG0A-H68A",
   "metadata": {
    "colab": {
     "base_uri": "https://localhost:8080/",
     "height": 518
    },
    "id": "nJWxG0A-H68A",
    "outputId": "5ee1c3d0-133a-4539-a53c-d84e43bf5a96"
   },
   "outputs": [],
   "source": [
    "df_districts[['city', 'latitude']].groupby(by='city').transform(\n",
    "    lambda x: np.abs((x - x.mean()))\n",
    "    ).plot(kind='box')\n",
    "\n",
    "plt.suptitle(\"df_districts: distribution of 'latitude' and 'longitude'\")\n",
    "\n",
    "df_districts[['city', 'longitude']].groupby(by='city').transform(\n",
    "    lambda x: np.abs((x - x.mean()))\n",
    "    ).plot(kind='box')\n",
    "\n",
    "plt.show()"
   ]
  },
  {
   "cell_type": "markdown",
   "id": "QRwziLNTKkE2",
   "metadata": {
    "id": "QRwziLNTKkE2"
   },
   "source": [
    "There are several outliers, but the strong right asymmetry can be understood thinking in lots of cities with small areas and a few ones with big areas. Compared to distances between limits of the state, even the most extreme values seem acceptable. Thus, the groupby operation makes sense."
   ]
  },
  {
   "cell_type": "code",
   "execution_count": null,
   "id": "Y2XUsMSG7rUZ",
   "metadata": {
    "colab": {
     "base_uri": "https://localhost:8080/",
     "height": 423
    },
    "id": "Y2XUsMSG7rUZ",
    "outputId": "a9789b73-e137-4eb3-c2f0-32999fe91710"
   },
   "outputs": [],
   "source": [
    "df_cities = df_districts.groupby(by='city').aggregate(\n",
    "    {'latitude': 'mean', 'longitude': 'mean', 'population_district': 'sum'})\n",
    "\n",
    "df_cities.rename(columns={'population_district': 'population_city'}, inplace=True)\n",
    "\n",
    "df_cities.reset_index(inplace=True)\n",
    "\n",
    "df_cities.sort_values(by='population_city', ascending=False)"
   ]
  },
  {
   "cell_type": "markdown",
   "id": "Q-7GObtUAY2P",
   "metadata": {
    "id": "Q-7GObtUAY2P"
   },
   "source": [
    "Again, it's useful to look at the distribution of cities' population in California."
   ]
  },
  {
   "cell_type": "code",
   "execution_count": null,
   "id": "2z0p3gxHW7Mi",
   "metadata": {
    "colab": {
     "base_uri": "https://localhost:8080/",
     "height": 81
    },
    "id": "2z0p3gxHW7Mi",
    "outputId": "e3b5d288-75f4-4493-febf-3a2d1977e8ec"
   },
   "outputs": [],
   "source": [
    "df_cities[['population_city']].describe().T.round(3)"
   ]
  },
  {
   "cell_type": "code",
   "execution_count": null,
   "id": "KVyu4mvOWlj1",
   "metadata": {
    "colab": {
     "base_uri": "https://localhost:8080/",
     "height": 314
    },
    "id": "KVyu4mvOWlj1",
    "outputId": "f37b1b1c-1722-4864-a8f8-ac24b914e838"
   },
   "outputs": [],
   "source": [
    "sns.histplot(data=df_cities, x='population_city')\n",
    "\n",
    "plt.suptitle(\"df_cities: distribution of 'population' for cities in California\")\n",
    "\n",
    "plt.show()"
   ]
  },
  {
   "cell_type": "markdown",
   "id": "O9QWHoXMru8m",
   "metadata": {
    "id": "O9QWHoXMru8m"
   },
   "source": [
    "As expected, it has largely more right asymmetry than districts case. In order to study the geographical distribution of cities' population, it's convenient to transform data taking the log (if not, it turns very difficult to look at the difference between cities with low population)."
   ]
  },
  {
   "cell_type": "code",
   "execution_count": null,
   "id": "kX28nBdUbk21",
   "metadata": {
    "colab": {
     "base_uri": "https://localhost:8080/",
     "height": 314
    },
    "id": "kX28nBdUbk21",
    "outputId": "4cb334f5-41aa-406d-d6e6-ce8f52f8af25"
   },
   "outputs": [],
   "source": [
    "df_cities['population_city_log10'] = df_cities['population_city'].apply(\n",
    "    lambda x: np.log10(x))\n",
    "\n",
    "sns.histplot(data=df_cities, x='population_city_log10')\n",
    "\n",
    "plt.suptitle(\"df_cities: distribution of log10('population') for cities in California\")\n",
    "\n",
    "plt.show()"
   ]
  },
  {
   "cell_type": "markdown",
   "id": "USUyhceQXCYj",
   "metadata": {
    "id": "USUyhceQXCYj"
   },
   "source": [
    "Finally, it's possible to analyze population for each city in a map. Colors are based on the log transformation, but the true population is informed in the hover data."
   ]
  },
  {
   "cell_type": "code",
   "execution_count": null,
   "id": "G_OYp66OEB4Z",
   "metadata": {
    "colab": {
     "base_uri": "https://localhost:8080/",
     "height": 542
    },
    "id": "G_OYp66OEB4Z",
    "outputId": "b19b6767-155c-46a7-8ebc-a549a77de9cd"
   },
   "outputs": [],
   "source": [
    "df_cities_sample = df_cities.sample(250)\n",
    "\n",
    "fig = px.scatter_geo(\n",
    "    data_frame=df_cities_sample, lat='latitude', lon='longitude', \n",
    "    color_continuous_scale=\"Viridis\", color='population_city_log10', \n",
    "    hover_name='city', hover_data=['population_city'], \n",
    "    title='Geographical distribution of cities and population', \n",
    "    template='ggplot2'\n",
    "    )\n",
    "\n",
    "fig.update_geos(fitbounds='locations')\n",
    "\n",
    "fig.show()"
   ]
  },
  {
   "cell_type": "markdown",
   "id": "81yuuwKAdTqV",
   "metadata": {
    "id": "81yuuwKAdTqV"
   },
   "source": [
    "There are two big poles, one around Los Ángeles and San Diego, and the other around San José, San Francisco and Sacramento."
   ]
  },
  {
   "cell_type": "markdown",
   "id": "zQHZb55OD9BY",
   "metadata": {
    "id": "zQHZb55OD9BY"
   },
   "source": [
    "### **Counties**"
   ]
  },
  {
   "cell_type": "markdown",
   "id": "YCRGW3l5DFn2",
   "metadata": {
    "id": "YCRGW3l5DFn2"
   },
   "source": [
    "Another way to visualize geographical distribution of population is drawing limits of counties, but this information isn't available in the dataset. Anyway, this can be reached by adding the information from external resources."
   ]
  },
  {
   "cell_type": "code",
   "execution_count": null,
   "id": "SaxU3IMwElc8",
   "metadata": {
    "colab": {
     "base_uri": "https://localhost:8080/",
     "height": 1000
    },
    "id": "SaxU3IMwElc8",
    "outputId": "0ef4ffcb-12c0-4e54-e175-a7f578390452"
   },
   "outputs": [],
   "source": [
    "df_zipcodes = pd.read_excel(r'./../data/CA_fipscodes_zipcodes.xlsx', sheet_name=0)\n",
    "df_fipscodes = pd.read_excel(r'./../data/CA_fipscodes_zipcodes.xlsx', sheet_name=1, \n",
    "                            dtype={'FIPS': str})\n",
    "\n",
    "# If running in Colab, load the files and then run:\n",
    "\n",
    "# df_zipcodes = pd.read_excel('CA_fipscodes_zipcodes.xlsx', sheet_name=0)\n",
    "# df_fipscodes = pd.read_excel('CA_fipscodes_zipcodes.xlsx', sheet_name=1, \n",
    "#                              dtype={'FIPS': str})\n",
    "\n",
    "display('df_zipcodes', '', df_zipcodes, '', \n",
    "        '------------------------------------------------------------------------------------------------------------------------------',\n",
    "        '', 'df_fipscodes', '', df_fipscodes)"
   ]
  },
  {
   "cell_type": "markdown",
   "id": "XihmPfQhE0Qv",
   "metadata": {
    "id": "XihmPfQhE0Qv"
   },
   "source": [
    "From this data:\n",
    "- df_zipcodes allows to know to which county each district belongs to.\n",
    "- df_fipscodes provides the FIPS code for each county, which will be passed to the plot as argument."
   ]
  },
  {
   "cell_type": "markdown",
   "id": "6i2tL9yBYAIX",
   "metadata": {
    "id": "6i2tL9yBYAIX"
   },
   "source": [
    "As with the original dataset, it is useful to know hoy many null and distinct values are there in each DataFrame."
   ]
  },
  {
   "cell_type": "code",
   "execution_count": null,
   "id": "iWRakBY0FPrG",
   "metadata": {
    "colab": {
     "base_uri": "https://localhost:8080/",
     "height": 666
    },
    "id": "iWRakBY0FPrG",
    "outputId": "0506f746-e8f5-4fa0-ae7a-34317feb318f"
   },
   "outputs": [],
   "source": [
    "display('df_zipcodes', '', df_profile(df_zipcodes), \n",
    "        '------------------------------------------------------------------------------------------------------------------------------',\n",
    "        '' , 'df_fipscodes', '', df_profile(df_fipscodes))"
   ]
  },
  {
   "cell_type": "markdown",
   "id": "FdeCaai0IqMg",
   "metadata": {
    "id": "FdeCaai0IqMg"
   },
   "source": [
    "There are 58 different counties in California. As expected, 'zip_code' , 'FIPS' and 'county' have all distinct values, and 'county' has one null value."
   ]
  },
  {
   "cell_type": "markdown",
   "id": "5swV-jqLJU4Q",
   "metadata": {
    "id": "5swV-jqLJU4Q"
   },
   "source": [
    "It's necessary to perform some string operationes to make data compliant."
   ]
  },
  {
   "cell_type": "code",
   "execution_count": null,
   "id": "_R7JCEQ8fePL",
   "metadata": {
    "id": "_R7JCEQ8fePL"
   },
   "outputs": [],
   "source": [
    "df_zipcodes['county'] = df_zipcodes['county'].str[:-7]\n",
    "\n",
    "df_fipscodes['FIPS'] = '0' + df_fipscodes['FIPS']"
   ]
  },
  {
   "cell_type": "markdown",
   "id": "dA3qGIglgdbZ",
   "metadata": {
    "id": "dA3qGIglgdbZ"
   },
   "source": [
    "Previous to perform merge operations, it´s a good step to check, for common columns, if also values are common."
   ]
  },
  {
   "cell_type": "code",
   "execution_count": null,
   "id": "znOLjkCuaFX3",
   "metadata": {
    "colab": {
     "base_uri": "https://localhost:8080/"
    },
    "id": "znOLjkCuaFX3",
    "outputId": "9e86fbf8-ebb4-47a1-8c75-93f07654759f"
   },
   "outputs": [],
   "source": [
    "print(\"'zip_code' values are the same in both df_zipcodes and df_population?\", \n",
    "      set(df_population['zip_code']) == set(df_zipcodes['zip_code']))\n",
    "print(\"How many 'zip_code' values in df_zipcodes are not included in df_population?\", \n",
    "      len(set(df_zipcodes['zip_code']) - set(df_population['zip_code'])))\n",
    "print(\"How many 'zip_code' values in df_population are not included in df_zipcodes?\",\n",
    "      len(set(df_population['zip_code']) - set(df_zipcodes['zip_code'])), '\\n')\n",
    "\n",
    "print(\"'county' values are the same in both df_zipcodes and df_fipscodes?\", \n",
    "      set(df_zipcodes['county']) == set(df_fipscodes['county']))\n",
    "print(\"How many 'county' values in df_fipscodes are not included in df_zipcodes?\", \n",
    "      len(set(df_fipscodes['county']) - set(df_zipcodes['county'])))\n",
    "print(\"How many 'county' values in df_zipcodes are not included in df_fipscodes?\", \n",
    "      len(set(df_zipcodes['county']) - set(df_fipscodes['county'])))\n",
    "print('Which value is that?', set(df_zipcodes['county']) - set(df_fipscodes['county']))"
   ]
  },
  {
   "cell_type": "code",
   "execution_count": null,
   "id": "rulXKoHihsmD",
   "metadata": {
    "colab": {
     "base_uri": "https://localhost:8080/",
     "height": 86
    },
    "id": "rulXKoHihsmD",
    "outputId": "4ea1a925-b185-4451-da23-b8363ce3a689"
   },
   "outputs": [],
   "source": [
    "print(\"'zip_code' in df_population for the null value of 'county':\\n\") \n",
    "df_population[df_population['zip_code']==df_zipcodes[df_zipcodes['county'].isna()]['zip_code'].values[0]]"
   ]
  },
  {
   "cell_type": "markdown",
   "id": "2VZAPDIajXfM",
   "metadata": {
    "id": "2VZAPDIajXfM"
   },
   "source": [
    "There are several zip codes that are not included in df_population. It will be assumed that missing zip codes are deprecated, or that belong to towns with very few habitants. Contrary, there's no lack of information about counties (the null value for 'county' belongs to a zip code that is not included in df_population), so every zip code in df_population can be related to a county, and thus, to a FIPS code. All this means that the merge operations required can be done without lost of information."
   ]
  },
  {
   "cell_type": "code",
   "execution_count": null,
   "id": "QKjiFjBJ6CqD",
   "metadata": {
    "colab": {
     "base_uri": "https://localhost:8080/",
     "height": 1000
    },
    "id": "QKjiFjBJ6CqD",
    "outputId": "898df462-84ff-4243-850e-49ae0f4342ca"
   },
   "outputs": [],
   "source": [
    "df_counties = pd.merge(\n",
    "    pd.merge(\n",
    "        df_population, df_zipcodes[['zip_code', 'county']], how='left', on='zip_code'\n",
    "        ), df_fipscodes[['FIPS', 'county']], how='left', on='county').groupby(\n",
    "            by=['FIPS', 'county'])[['population']].sum()\n",
    "\n",
    "df_counties.rename(columns={'population': 'population_county'}, inplace=True)\n",
    "\n",
    "df_counties.reset_index(inplace=True)\n",
    "\n",
    "df_counties.sort_values(by='population_county', ascending=False)"
   ]
  },
  {
   "cell_type": "markdown",
   "id": "NS2A8c0dtZf4",
   "metadata": {
    "id": "NS2A8c0dtZf4"
   },
   "source": [
    "Again, it's useful to look at the distribution of counties' population in California."
   ]
  },
  {
   "cell_type": "code",
   "execution_count": null,
   "id": "fq2HzGeEpttP",
   "metadata": {
    "colab": {
     "base_uri": "https://localhost:8080/",
     "height": 81
    },
    "id": "fq2HzGeEpttP",
    "outputId": "d35b2144-979b-4290-f7cd-7a744c158825"
   },
   "outputs": [],
   "source": [
    "df_counties[['population_county']].describe().T.round(3)"
   ]
  },
  {
   "cell_type": "code",
   "execution_count": null,
   "id": "dgvicREhpywH",
   "metadata": {
    "colab": {
     "base_uri": "https://localhost:8080/",
     "height": 314
    },
    "id": "dgvicREhpywH",
    "outputId": "521cb4cf-7b5c-41c0-d5e6-0bb17e45214b"
   },
   "outputs": [],
   "source": [
    "sns.histplot(data=df_counties, x='population_county')\n",
    "\n",
    "plt.suptitle(\"df_counties: distribution of 'population' for counties in California\")\n",
    "\n",
    "plt.show()"
   ]
  },
  {
   "cell_type": "markdown",
   "id": "BF_nRWPRtjWl",
   "metadata": {
    "id": "BF_nRWPRtjWl"
   },
   "source": [
    "Although it doesn't have as much right asymmetry as cities case, it still could be the case that log transformation improved the study about geographical distribution of counties' population."
   ]
  },
  {
   "cell_type": "code",
   "execution_count": null,
   "id": "G4DEqIhoqasg",
   "metadata": {
    "colab": {
     "base_uri": "https://localhost:8080/",
     "height": 314
    },
    "id": "G4DEqIhoqasg",
    "outputId": "2ad18476-7a5c-4694-cae7-e2dcfa62230c"
   },
   "outputs": [],
   "source": [
    "df_counties['population_county_log10'] = df_counties['population_county'].apply(lambda x: np.log10(x))\n",
    "\n",
    "sns.histplot(data=df_counties, x='population_county_log10')\n",
    "\n",
    "plt.suptitle(\"df_counties: distribution of log10('population') for counties in California\")\n",
    "\n",
    "plt.show()"
   ]
  },
  {
   "cell_type": "markdown",
   "id": "OMmdrBUzogEf",
   "metadata": {
    "id": "OMmdrBUzogEf"
   },
   "source": [
    "Finally, it's possible to analyze population for each county in a map. Colors are based on the log transformation, but the true population is informed in the hover data."
   ]
  },
  {
   "cell_type": "code",
   "execution_count": null,
   "id": "IkQLPihhqwOW",
   "metadata": {
    "colab": {
     "base_uri": "https://localhost:8080/",
     "height": 542
    },
    "id": "IkQLPihhqwOW",
    "outputId": "beead1b9-e264-418c-f77e-b9b763b28510"
   },
   "outputs": [],
   "source": [
    "from urllib.request import urlopen\n",
    "import json\n",
    "with urlopen('https://raw.githubusercontent.com/plotly/datasets/master/geojson-counties-fips.json') as response:\n",
    "    counties = json.load(response)\n",
    "\n",
    "lat_mean = df_districts['latitude'].mean()    # For centering the map\n",
    "lon_mean = df_districts['longitude'].mean()\n",
    "\n",
    "fig = px.choropleth(df_counties, \n",
    "    geojson=counties, \n",
    "    locations='FIPS', \n",
    "    color='population_county_log10',\n",
    "    color_continuous_scale=\"Viridis\",\n",
    "    hover_name='county',\n",
    "    hover_data=['population_county'],\n",
    "    scope=\"usa\",\n",
    "    center={'lat': lat_mean, 'lon': lon_mean},\n",
    "    title='Geographical distribution of population among counties', \n",
    "    template='ggplot2'\n",
    ")\n",
    "\n",
    "fig.show()"
   ]
  },
  {
   "cell_type": "markdown",
   "id": "WhMi_0Ao-JvI",
   "metadata": {
    "id": "WhMi_0Ao-JvI"
   },
   "source": [
    "Going further, it's possible to know the number of customers for each county. For this purpose:\n",
    "- First, df_loc_pop is merged with df_cities (on 'city'), df_zicodes (on 'zip_code') and df_county (on 'county'), so that, for each customer, it can be known the county where he or she lives, and the the population in both the city and the county where he or she lives."
   ]
  },
  {
   "cell_type": "code",
   "execution_count": null,
   "id": "PyAFAFjcumMt",
   "metadata": {
    "colab": {
     "base_uri": "https://localhost:8080/",
     "height": 304
    },
    "id": "PyAFAFjcumMt",
    "outputId": "85c44253-42f1-4c45-e019-efdc47b7c6b1"
   },
   "outputs": [],
   "source": [
    "df_loc_pop = pd.merge(\n",
    "    pd.merge(\n",
    "        pd.merge(\n",
    "            df_loc_pop.rename(columns={'population': 'population_district'}).drop(columns='lat_long'), \n",
    "            df_cities[['city', 'population_city', 'population_city_log10']], how='left', on='city'), \n",
    "             df_zipcodes[['zip_code', 'county']], how='left', on='zip_code'), \n",
    "             df_counties, how='left', on='county')\n",
    "\n",
    "df_loc_pop = df_loc_pop.iloc[:, [0, 3, 4, 2, 1, 9, 8, 5, 6, 7, 10, 11]]\n",
    "\n",
    "df_loc_pop.sample(5)"
   ]
  },
  {
   "cell_type": "markdown",
   "id": "jWnAltN94TRR",
   "metadata": {
    "id": "jWnAltN94TRR"
   },
   "source": [
    "- Second, through a groupby operation, it's possible to calculate the aggregation of customers for each county. Despite it could be done just in df_loc_pop, it's more appropriate to it merged it to df_counties again."
   ]
  },
  {
   "cell_type": "code",
   "execution_count": null,
   "id": "fSNLBmXU_EL-",
   "metadata": {
    "colab": {
     "base_uri": "https://localhost:8080/",
     "height": 1000
    },
    "id": "fSNLBmXU_EL-",
    "outputId": "5008ec78-5c16-4d6e-92f3-fdb605675092"
   },
   "outputs": [],
   "source": [
    "df_counties = pd.merge(df_counties, df_loc_pop.groupby(by='county')[['customer_id']].nunique(), \n",
    "                       how='left', on='county').rename(columns={'customer_id': 'customers_county'})\n",
    "\n",
    "df_counties"
   ]
  },
  {
   "cell_type": "markdown",
   "id": "uYWEULcfJTAf",
   "metadata": {
    "id": "uYWEULcfJTAf"
   },
   "source": [
    "It would be expectable that counties with high population also had many customers."
   ]
  },
  {
   "cell_type": "code",
   "execution_count": null,
   "id": "34JdjjsMERHg",
   "metadata": {
    "colab": {
     "base_uri": "https://localhost:8080/",
     "height": 314
    },
    "id": "34JdjjsMERHg",
    "outputId": "a4b0be66-8cc9-4552-c566-3e0789019e73"
   },
   "outputs": [],
   "source": [
    "sns.scatterplot(data=df_counties, x='population_county', y='customers_county')\n",
    "\n",
    "plt.suptitle(\"df_counties: relation between 'population_county' and 'customers_county'\")\n",
    "\n",
    "plt.show()"
   ]
  },
  {
   "cell_type": "markdown",
   "id": "HxPTMym07krx",
   "metadata": {
    "id": "HxPTMym07krx"
   },
   "source": [
    "Roughly, the relation keeps, so a geographic plot of the number of customers doesn't make sense, since it would be very similar to the population one. However, it's still interesting to study the penetration of the company in each county. This can be done taking the ratio between these features."
   ]
  },
  {
   "cell_type": "code",
   "execution_count": null,
   "id": "t0AzjdkAENgn",
   "metadata": {
    "id": "t0AzjdkAENgn"
   },
   "outputs": [],
   "source": [
    "df_counties['ratio_cust_pop'] = round(df_counties['customers_county'] / \n",
    "                                      df_counties['population_county'], 6)"
   ]
  },
  {
   "cell_type": "markdown",
   "id": "RTRPhBlC-Ikg",
   "metadata": {
    "id": "RTRPhBlC-Ikg"
   },
   "source": [
    "Again, it's useful to look at the distribution of this new feature."
   ]
  },
  {
   "cell_type": "code",
   "execution_count": null,
   "id": "YMrS1WK1BdJw",
   "metadata": {
    "colab": {
     "base_uri": "https://localhost:8080/",
     "height": 81
    },
    "id": "YMrS1WK1BdJw",
    "outputId": "56a99e2f-736c-47e2-ae95-cbf0f7915c75"
   },
   "outputs": [],
   "source": [
    "df_counties[['ratio_cust_pop']].describe().T.round(3)"
   ]
  },
  {
   "cell_type": "code",
   "execution_count": null,
   "id": "oWWYW9n4BwkM",
   "metadata": {
    "colab": {
     "base_uri": "https://localhost:8080/",
     "height": 314
    },
    "id": "oWWYW9n4BwkM",
    "outputId": "5f6aec70-3fc0-4274-d240-8f5548b9f530"
   },
   "outputs": [],
   "source": [
    "sns.histplot(data=df_counties, x='ratio_cust_pop')\n",
    "\n",
    "plt.suptitle(\"df_counties: distribution of 'customers_county'/'population_county' in California\")\n",
    "\n",
    "plt.show()"
   ]
  },
  {
   "cell_type": "markdown",
   "id": "Cvy0enm6_SOt",
   "metadata": {
    "id": "Cvy0enm6_SOt"
   },
   "source": [
    "Since it has strong right asymmetry, it's convenient to take the log before plotting."
   ]
  },
  {
   "cell_type": "code",
   "execution_count": null,
   "id": "RUGp1cDICdeR",
   "metadata": {
    "colab": {
     "base_uri": "https://localhost:8080/",
     "height": 314
    },
    "id": "RUGp1cDICdeR",
    "outputId": "a1bcdc69-ad47-4ffe-bc75-d812d5a86333"
   },
   "outputs": [],
   "source": [
    "df_counties['ratio_cust_pop_log10'] = df_counties['ratio_cust_pop'].apply(lambda x: np.log10(x))\n",
    "\n",
    "sns.histplot(data=df_counties, x='ratio_cust_pop_log10')\n",
    "\n",
    "plt.suptitle(\"df_counties: distribution of log10('customers_county'/'population_county') in California\")\n",
    "\n",
    "plt.show()"
   ]
  },
  {
   "cell_type": "code",
   "execution_count": null,
   "id": "7-umhJYldXa8",
   "metadata": {
    "colab": {
     "base_uri": "https://localhost:8080/",
     "height": 542
    },
    "id": "7-umhJYldXa8",
    "outputId": "aa1b2f6f-1832-4461-8a1c-43fe84e41539"
   },
   "outputs": [],
   "source": [
    "fig = px.choropleth(df_counties, \n",
    "    geojson=counties, \n",
    "    locations='FIPS', \n",
    "    color='ratio_cust_pop_log10',\n",
    "    color_continuous_scale=\"Viridis\",\n",
    "    hover_name='county',\n",
    "    hover_data=['population_county', 'ratio_cust_pop'],\n",
    "    scope=\"usa\",\n",
    "    center={'lat': lat_mean, 'lon': lon_mean}, \n",
    "    title=\"Geographical distribution of 'customers_county'/'population_county' among counties\", \n",
    "    template='ggplot2'\n",
    ")\n",
    "\n",
    "fig.show()"
   ]
  },
  {
   "cell_type": "markdown",
   "id": "Cos-5XTmAl78",
   "metadata": {
    "id": "Cos-5XTmAl78"
   },
   "source": [
    "As a general pattern, penetration is higher for counties with low population, mainly in the north and east of the state."
   ]
  },
  {
   "cell_type": "markdown",
   "id": "E0B4aM0ro8Xq",
   "metadata": {
    "id": "E0B4aM0ro8Xq"
   },
   "source": [
    "## **Merged**"
   ]
  },
  {
   "cell_type": "markdown",
   "id": "2N2K7rFSqeTh",
   "metadata": {
    "id": "2N2K7rFSqeTh"
   },
   "source": [
    "At this point, all DataFrames have been enriched quite enough, and a complete merge operation can be performed, so that for each customer, there´s a complete set of features that describe them and can be used in predictive models. Since all DataFrames have a one to one relation, the same result can be achieved by column concatenation, setting the common column as index."
   ]
  },
  {
   "cell_type": "code",
   "execution_count": null,
   "id": "f0c181ae-e2a7-4124-8e2e-4b3a398c473b",
   "metadata": {
    "colab": {
     "base_uri": "https://localhost:8080/",
     "height": 393
    },
    "id": "f0c181ae-e2a7-4124-8e2e-4b3a398c473b",
    "outputId": "62588c63-89bb-4356-e7ff-9ea79ad6a738"
   },
   "outputs": [],
   "source": [
    "df = pd.concat([df_loc_pop.set_index('customer_id'), \n",
    "                df_demographics.set_index('customer_id'),\n",
    "                df_services.set_index('customer_id'), \n",
    "                df_status.set_index('customer_id')], \n",
    "               axis=1)\n",
    "\n",
    "df.reset_index(inplace=True)\n",
    "\n",
    "print('Shape:', df.shape, '\\n')\n",
    "\n",
    "with pd.option_context('display.max_columns', df.shape[1]):\n",
    "    display(df.sample(5))"
   ]
  },
  {
   "cell_type": "markdown",
   "id": "O3eSewu71zCe",
   "metadata": {
    "id": "O3eSewu71zCe"
   },
   "source": [
    "### **Monetary KPI: Gross Monthly Recurrent Revenue Churn Rate**"
   ]
  },
  {
   "cell_type": "markdown",
   "id": "lYiib-eZg-p_",
   "metadata": {
    "id": "lYiib-eZg-p_"
   },
   "source": [
    "Now that all information is available, it's possible to compute KPIs that involve monetary measures. For example, it's possible to compute the the Gross Monthly Recurrent Revenue Churn Rate, this is, the percentage of income lost due to churn in the period.\n",
    "\n",
    "$GMRRC = \\frac {\\sum MonthlyChargeChurners} {\\sum MonthlyChargeStart}$"
   ]
  },
  {
   "cell_type": "code",
   "execution_count": null,
   "id": "QNnZBnhdw3DA",
   "metadata": {
    "colab": {
     "base_uri": "https://localhost:8080/"
    },
    "id": "QNnZBnhdw3DA",
    "outputId": "c28a4301-62f0-458d-c314-2154c2bf1c5b"
   },
   "outputs": [],
   "source": [
    "print('Monetary Recurrent Revenue Churn Rate: {:.2%}'.format(\n",
    "    (df.query(\"customer_status=='Churned'\")['monthly_charge'].sum() + \n",
    "     df.query(\"customer_status=='Churned'\")['avg_monthly_long_distance_charges'].sum()) / \n",
    "     (df.query(\"customer_status!='Joined'\")['monthly_charge'].sum() +\n",
    "      df.query(\"customer_status!='Joined'\")['avg_monthly_long_distance_charges'].sum())\n",
    "))"
   ]
  },
  {
   "cell_type": "markdown",
   "id": "BiE-Vaxk42Z9",
   "metadata": {
    "id": "BiE-Vaxk42Z9"
   },
   "source": [
    "It's a little bit higher than Churn rate."
   ]
  },
  {
   "cell_type": "markdown",
   "id": "SdmD_KQRlTwv",
   "metadata": {
    "id": "SdmD_KQRlTwv"
   },
   "source": [
    "In addition, the Net Monthly Recurrent Revenue Churn Rate measures the income lost due to churn and downgrades in the service, and adjusted by upgrades and service expansions. Since this data isn't provided in the dataset, this KPI can't be computed. As said before (when talking about cohort analysis), having historical data would improve the study."
   ]
  },
  {
   "cell_type": "markdown",
   "id": "kpDSWT9zDIBw",
   "metadata": {
    "id": "kpDSWT9zDIBw"
   },
   "source": [
    "### **Geographical distribution of KPIs**"
   ]
  },
  {
   "cell_type": "markdown",
   "id": "eP5A2_ZPef1h",
   "metadata": {
    "id": "eP5A2_ZPef1h"
   },
   "source": [
    "Another way the analysis can be improved now is to look at the geographical distribution of KPIs among counties. The first step to do this is to pass functions that calculate the KPIs to a groupby object, with the counties as keys."
   ]
  },
  {
   "cell_type": "code",
   "execution_count": null,
   "id": "6AhXh9fQfz-z",
   "metadata": {
    "id": "6AhXh9fQfz-z"
   },
   "outputs": [],
   "source": [
    "def churn_rate(df):\n",
    "\n",
    "    '''\n",
    "    Function passed through apply method of groupby object.\n",
    "    For each key value of the groupby object,\n",
    "    it returns the rate of customers that churned in the current quarter.\n",
    "    '''\n",
    "\n",
    "    df['churn_rate'] = round(\n",
    "        (df['customer_status']=='Churned').sum() / \\\n",
    "        (df['customer_status']!='Joined').sum(), 6\n",
    "        )\n",
    "    \n",
    "    return df\n",
    "\n",
    "\n",
    "def mrrchurn_rate(df):\n",
    "\n",
    "    '''\n",
    "    Function passed through apply method of groupby object.\n",
    "    For each key value of the groupby object,\n",
    "    it returns the rate of monthly revenue lost because of churnings in the current quarter.\n",
    "    '''\n",
    "\n",
    "    df['mrrchurn_rate'] = round(\n",
    "        (df.query(\"customer_status=='Churned'\")['monthly_charge'].sum() + \\\n",
    "         df.query(\"customer_status=='Churned'\")['avg_monthly_long_distance_charges'].sum()) / \\\n",
    "         (df.query(\"customer_status!='Joined'\")['monthly_charge'].sum() + \\\n",
    "          df.query(\"customer_status!='Joined'\")['avg_monthly_long_distance_charges'].sum()), 6\n",
    "          )\n",
    "\n",
    "    return df\n",
    "\n",
    "\n",
    "def retention_rate(df):\n",
    "\n",
    "    '''\n",
    "    Function passed through apply method of groupby object.\n",
    "    For each key value of the groupby object,\n",
    "    it returns the rate of customers that stayed in the current quarter.\n",
    "    '''\n",
    "\n",
    "    df['retention_rate'] = round(\n",
    "        (df['customer_status']=='Stayed').sum() / \\\n",
    "        (df['customer_status']!='Joined').sum(), 6\n",
    "        )\n",
    "    \n",
    "    return df\n",
    "\n",
    "\n",
    "def activation_rate(df):\n",
    "\n",
    "    '''\n",
    "    Function passed through apply method of groupby object.\n",
    "    For each key value of the groupby object,\n",
    "    it returns the rate of customers that joined in the current quarter.\n",
    "    '''\n",
    "\n",
    "    df['activation_rate'] = round(\n",
    "        (df['customer_status']=='Joined').sum() / \\\n",
    "        (df['customer_status']!='Joined').sum(), 6\n",
    "        )\n",
    "    \n",
    "    return df\n",
    "\n",
    "\n",
    "def fdb(df):\n",
    "\n",
    "    '''\n",
    "    Fuction passed through apply method of groupby object.\n",
    "    For each key value of the groupby object,\n",
    "    it returns the future dimension of the business in the current quarter.\n",
    "    '''\n",
    "\n",
    "    df['fdb'] = round(\n",
    "        (df['customer_status']=='Joined').sum() * \\\n",
    "        (df['customer_status']!='Joined').sum() / \\\n",
    "        (df['customer_status']=='Churned').sum(), 4\n",
    "        )\n",
    "    \n",
    "    return df\n",
    "\n",
    "\n",
    "def idb(df):\n",
    "\n",
    "    '''\n",
    "    Function passed through apply method of groupby object.\n",
    "    For each key value of the groupby object,\n",
    "    it returns the increase in future dimension in the current quarter.\n",
    "    '''\n",
    "\n",
    "    df['idb'] = round(\n",
    "        ((df['customer_status']=='Joined').sum() / \\\n",
    "         (df['customer_status']=='Churned').sum()) - 1, 6\n",
    "         )\n",
    "    \n",
    "    return df\n"
   ]
  },
  {
   "cell_type": "markdown",
   "id": "ueaSsmRwpIw_",
   "metadata": {
    "id": "ueaSsmRwpIw_"
   },
   "source": [
    "Since the result is displayed in df, the second step is to merge it to df_counties."
   ]
  },
  {
   "cell_type": "code",
   "execution_count": null,
   "id": "0Fxs-KT2hpc7",
   "metadata": {
    "colab": {
     "base_uri": "https://localhost:8080/",
     "height": 1000
    },
    "id": "0Fxs-KT2hpc7",
    "outputId": "ce751274-38fd-4e29-836d-f77a13384ae8"
   },
   "outputs": [],
   "source": [
    "df_counties = pd.merge(\n",
    "    df_counties, df[['customer_id', 'county', 'customer_status', 'monthly_charge', 'avg_monthly_long_distance_charges']].groupby(\n",
    "        by='county').apply(churn_rate).groupby(by='county').apply(mrrchurn_rate).groupby(by='county').apply(retention_rate).groupby(\n",
    "            by='county').apply(activation_rate).groupby(by='county').apply(fdb).groupby(by='county').apply(idb).drop(\n",
    "                columns=['customer_id', 'monthly_charge', 'avg_monthly_long_distance_charges', 'customer_status']).drop_duplicates(), \n",
    "                how='left', on='county'\n",
    "                )\n",
    "\n",
    "df_counties"
   ]
  },
  {
   "cell_type": "markdown",
   "id": "UD6saW8nA3RD",
   "metadata": {
    "id": "UD6saW8nA3RD"
   },
   "source": [
    "It's useful, before plotting, to look at the distribution of KPIs."
   ]
  },
  {
   "cell_type": "code",
   "execution_count": null,
   "id": "SY_8_zbBio_W",
   "metadata": {
    "colab": {
     "base_uri": "https://localhost:8080/",
     "height": 683
    },
    "id": "SY_8_zbBio_W",
    "outputId": "77507e64-d434-4e75-e3fa-c6955bea6b15"
   },
   "outputs": [],
   "source": [
    "fig, axes = plt.subplots(nrows=2, ncols=3, figsize=(18, 10))\n",
    "\n",
    "sns.histplot(data=df_counties, x='churn_rate', ax=axes[0, 0])\n",
    "sns.histplot(data=df_counties, x='retention_rate', ax=axes[0, 1])\n",
    "sns.histplot(data=df_counties, x='activation_rate', ax=axes[0, 2])\n",
    "sns.histplot(data=df_counties, x='mrrchurn_rate', ax=axes[1, 0])\n",
    "sns.histplot(data=df_counties, x='fdb', ax=axes[1, 1])\n",
    "sns.histplot(data=df_counties, x='idb', ax=axes[1, 2])\n",
    "\n",
    "plt.suptitle(\"Distribution of KPIs in California\")\n",
    "\n",
    "plt.show()"
   ]
  },
  {
   "cell_type": "markdown",
   "id": "UWijj__eterI",
   "metadata": {
    "id": "UWijj__eterI"
   },
   "source": [
    "Only 'fdb' has a strong right assymetry. In order to study the geographical distribution of this feature, it's convenient to transform it taking the log."
   ]
  },
  {
   "cell_type": "code",
   "execution_count": null,
   "id": "mybaGDwHiNLT",
   "metadata": {
    "colab": {
     "base_uri": "https://localhost:8080/",
     "height": 314
    },
    "id": "mybaGDwHiNLT",
    "outputId": "080f4fa6-5b98-44a2-d78b-0073d7f321c0"
   },
   "outputs": [],
   "source": [
    "df_counties['fdb_log10'] = df_counties['fdb'].apply(lambda x: np.log10(x))\n",
    "\n",
    "sns.histplot(data=df_counties, x='fdb_log10')\n",
    "\n",
    "plt.suptitle(\"df_counties: distribution of log10('fdb') in California\")\n",
    "\n",
    "plt.show()"
   ]
  },
  {
   "cell_type": "markdown",
   "id": "xFyCG9xAvzKo",
   "metadata": {
    "id": "xFyCG9xAvzKo"
   },
   "source": [
    "It would be expectable that 'churn_rate' and 'mrrchurn_rate' were related."
   ]
  },
  {
   "cell_type": "code",
   "execution_count": null,
   "id": "Ja9atWskCCmC",
   "metadata": {
    "colab": {
     "base_uri": "https://localhost:8080/",
     "height": 314
    },
    "id": "Ja9atWskCCmC",
    "outputId": "b4cd9135-a695-4639-d386-1d80a57fa37b"
   },
   "outputs": [],
   "source": [
    "line = np.linspace(0, pd.concat((df_counties['churn_rate'], df_counties['mrrchurn_rate'])).max(), 100)\n",
    "\n",
    "sns.scatterplot(data=df_counties, x='churn_rate', y='mrrchurn_rate')\n",
    "sns.lineplot(x=line, y=line, color='red')\n",
    "\n",
    "plt.suptitle(\"df_counties: relation between 'churn_rate' and 'mrrchurn_rate' (and 45° line)\")\n",
    "\n",
    "plt.show()"
   ]
  },
  {
   "cell_type": "markdown",
   "id": "tWQtCjznYT8j",
   "metadata": {
    "id": "tWQtCjznYT8j"
   },
   "source": [
    "The relation is very close to be linear, and it's also close to the 45° line, so it's enough to plot only one of them. It can be observed that, in average, 'mrrchurn_rate' tends to be a little higher than 'churn_rate'. This can be understood as customers with higher monthly charges churning a little bit more than those with lower monthly charges."
   ]
  },
  {
   "cell_type": "markdown",
   "id": "xURfvg7-N6Fp",
   "metadata": {
    "id": "xURfvg7-N6Fp"
   },
   "source": [
    "Since 'churn_rate', 'retention_rate' and 'activation_rate' have perfect multicollinearity, only the first will be plotted. Anyway, all of them will be informed in the hover data."
   ]
  },
  {
   "cell_type": "code",
   "execution_count": null,
   "id": "Wc2i6NffVzEA",
   "metadata": {
    "colab": {
     "base_uri": "https://localhost:8080/",
     "height": 542
    },
    "id": "Wc2i6NffVzEA",
    "outputId": "46ddc605-4240-4875-c8b0-0d49bb5ae6e6"
   },
   "outputs": [],
   "source": [
    "fig = px.choropleth(\n",
    "    df_counties, \n",
    "    geojson=counties, \n",
    "    locations='FIPS', \n",
    "    color='churn_rate',\n",
    "    color_continuous_scale=\"Viridis\",\n",
    "    hover_name='county',\n",
    "    hover_data=['population_county', 'idb', 'fdb', 'mrrchurn_rate', 'activation_rate', 'retention_rate'],\n",
    "    scope=\"usa\",\n",
    "    center={'lat': lat_mean, 'lon': lon_mean}, \n",
    "    title=\"Geographical distribution of 'churn_rate' in counties\", \n",
    "    template='ggplot2'\n",
    "    )\n",
    "\n",
    "fig.show()"
   ]
  },
  {
   "cell_type": "markdown",
   "id": "lRUsRKWz2Sn6",
   "metadata": {
    "id": "lRUsRKWz2Sn6"
   },
   "source": [
    "Some of the counties with high population have also a very high Churn rate. Especially, San Diego has near 3M habitants and the Churn rate over 40 %. Taking back the analysis of churn reasons, 9 of each 20 customers that churned did it because of 'Competitors'. Probably, competence is stronger in high population areas."
   ]
  },
  {
   "cell_type": "markdown",
   "id": "7T_Nwiox3Nhp",
   "metadata": {
    "id": "7T_Nwiox3Nhp"
   },
   "source": [
    "In the other hand, the Future Dimension of the Business can be analyzed taking the log."
   ]
  },
  {
   "cell_type": "code",
   "execution_count": null,
   "id": "UWA4Ekk4jFQQ",
   "metadata": {
    "colab": {
     "base_uri": "https://localhost:8080/",
     "height": 542
    },
    "id": "UWA4Ekk4jFQQ",
    "outputId": "d4d7cdf9-88af-4515-b215-6408c426bb03"
   },
   "outputs": [],
   "source": [
    "fig = px.choropleth(df_counties, \n",
    "    geojson=counties, \n",
    "    locations='FIPS', \n",
    "    color='fdb_log10',\n",
    "    color_continuous_scale=\"Viridis\",\n",
    "    hover_name='county',\n",
    "    hover_data=['population_county', 'churn_rate', 'retention_rate', 'activation_rate', 'idb', 'fdb'],\n",
    "    scope=\"usa\",\n",
    "    center={'lat': lat_mean, 'lon': lon_mean}, \n",
    "    title=\"Geographical distribution of 'fdb' in counties\", \n",
    "    template='ggplot2'\n",
    ")\n",
    "\n",
    "fig.show()"
   ]
  },
  {
   "cell_type": "markdown",
   "id": "UnF3csz979gr",
   "metadata": {
    "id": "UnF3csz979gr"
   },
   "source": [
    "Since this KPI takes in account not only ratios but also the number of customers, it's expectable to have some correlation with the population. This is why Los Angeles has the higher FDB, despite the ratios are not so good. It's the state where it's probably that the new customers will significate more future incomes. In the other hand, San Diego does it worst than other counties with less population."
   ]
  },
  {
   "cell_type": "markdown",
   "id": "UG9pJViDR-dZ",
   "metadata": {
    "id": "UG9pJViDR-dZ"
   },
   "source": [
    "### **Geographical distribution of churning and CLTV**"
   ]
  },
  {
   "cell_type": "markdown",
   "id": "Vt48fhra9gDy",
   "metadata": {
    "id": "Vt48fhra9gDy"
   },
   "source": [
    "In order to finish the geographical analysis, it's possible to look at individual distribution of customers. In the following plot, a sample of customers is displayed, and also their status and the estimated Customer Lifetime Value."
   ]
  },
  {
   "cell_type": "code",
   "execution_count": null,
   "id": "6739bd94-d0fe-4b6c-b250-057598fd3930",
   "metadata": {
    "colab": {
     "base_uri": "https://localhost:8080/",
     "height": 542
    },
    "id": "6739bd94-d0fe-4b6c-b250-057598fd3930",
    "outputId": "e8aeac9b-be8e-4cc2-9aec-df55831cae8b"
   },
   "outputs": [],
   "source": [
    "df_sample = df.sample(50)\n",
    "fig = px.scatter_geo(\n",
    "    data_frame=df_sample, lat='latitude', lon='longitude', \n",
    "    size='cltv', size_max=7, color='customer_status', \n",
    "    category_orders={'customer_status': ['Stayed', 'Churned', 'Joined']}, \n",
    "    title=\"Geographical distribution of customers, 'customer_status' and 'cltv'\"\n",
    "    )\n",
    "fig.update_geos(fitbounds=\"locations\")\n",
    "fig.show()"
   ]
  },
  {
   "cell_type": "markdown",
   "id": "onGtHt-C-SLz",
   "metadata": {
    "id": "onGtHt-C-SLz"
   },
   "source": [
    "As said before, it's very surprising that there's not a strong relation between churning and CLTV, which means that the company isn't good at holding valuable customers (or the company estimates the CLTV very poorly)."
   ]
  },
  {
   "cell_type": "markdown",
   "id": "eeaae1cd-82a2-4390-91dd-046a44513ab6",
   "metadata": {},
   "source": [
    "## **Conclusion of EDA**"
   ]
  },
  {
   "cell_type": "markdown",
   "id": "dd7e37b3-7286-4e05-a28e-f6027d652f7f",
   "metadata": {},
   "source": [
    "The analysis made before showed that the company has a serious problem in the aspect of retention, and that the number of customers has decreased respect to the start of the quarter. Going further, it was seen that the main cause that churners answer when they are asked is 'Competitors'."
   ]
  },
  {
   "cell_type": "markdown",
   "id": "2c2141df-f11c-4a82-82f1-b12c41029f82",
   "metadata": {},
   "source": [
    "Going further, a geographical analysis showed that some metrics about penetration and retention are especially poor in counties with high population, which has a significant impact in global metrics. Relating this to what was said in the previous paragraph, it can be inferred that the market is much more competitive in big cities and counties, and for the company is very difficult to deal with this fact. It's necessary some more investigation in order to identify the causes of this lack of competitiveness."
   ]
  },
  {
   "cell_type": "markdown",
   "id": "3c4a5be5-ee56-4ba0-8916-02c5564cfd4d",
   "metadata": {},
   "source": [
    "Additionally, the company is unable to classify well and retain customers with high Customer Lifetime Value, which negatively affects its long term profits."
   ]
  },
  {
   "cell_type": "markdown",
   "id": "cb26a74a-9e4f-460d-ab9c-7e784db2dd8f",
   "metadata": {},
   "source": [
    "There are lots more of small conclusion that can be taken, but since they were described as the EDA advanced, they can be ommitted at this point."
   ]
  },
  {
   "cell_type": "markdown",
   "id": "49324d8f-f8e6-4ceb-b5c1-eae8bfc5a156",
   "metadata": {},
   "source": [
    "# **Data Curation**"
   ]
  },
  {
   "cell_type": "markdown",
   "id": "8a281564-0b78-4f2b-92b8-27c9eed727a4",
   "metadata": {},
   "source": [
    "Despite some statistical methods allow to select features in order to reach the best performance of models, the explainability of these decreases as the complexity increases, what turns difficult to quantify the effect of each individual feature for a given prediction. For this reason, as a previous step of predictive analysis, it's useful to study the relation between the target and the features."
   ]
  },
  {
   "cell_type": "markdown",
   "id": "fWOvFB77SYAV",
   "metadata": {
    "id": "fWOvFB77SYAV"
   },
   "source": [
    "## **Stacked correlations and Clustermap**"
   ]
  },
  {
   "cell_type": "markdown",
   "id": "c8wUB-DDYoDd",
   "metadata": {
    "id": "c8wUB-DDYoDd"
   },
   "source": [
    "First of all, it's useful to see how all pair of numerical features (and target) are related."
   ]
  },
  {
   "cell_type": "code",
   "execution_count": null,
   "id": "BDtfUAWWKSDb",
   "metadata": {
    "colab": {
     "base_uri": "https://localhost:8080/",
     "height": 456
    },
    "id": "BDtfUAWWKSDb",
    "outputId": "cb474ad9-ed9c-4cfc-b05e-a867db6d115d"
   },
   "outputs": [],
   "source": [
    "corr_p = df.drop(columns=['zip_code', 'latitude', 'longitude']).corr()\n",
    "stacked_corr(corr_p).query('abs_r > 0.6')"
   ]
  },
  {
   "cell_type": "markdown",
   "id": "nxxWMbcDoef4",
   "metadata": {
    "id": "nxxWMbcDoef4"
   },
   "source": [
    "Since the target is dichotomic, it's more appropriate to use a non parametric method for correlation."
   ]
  },
  {
   "cell_type": "code",
   "execution_count": null,
   "id": "J6wMDtDd6_PJ",
   "metadata": {
    "colab": {
     "base_uri": "https://localhost:8080/",
     "height": 613
    },
    "id": "J6wMDtDd6_PJ",
    "outputId": "29d8a460-46f3-4519-cd94-8a6ff6366724"
   },
   "outputs": [],
   "source": [
    "corr_k = df.drop(columns=['zip_code', 'latitude', 'longitude']).corr(method = 'kendall')\n",
    "stacked_corr(corr_k).query(\"feature_1=='churn_value' or feature_2=='churn_value'\")"
   ]
  },
  {
   "cell_type": "markdown",
   "id": "aGt34NtTpKNI",
   "metadata": {
    "id": "aGt34NtTpKNI"
   },
   "source": [
    "The target is highly correlated with 'satisfaction_score' and 'churn_score', but the last one is the output of a previous model, so it won't be considered for a new one. Furthermore, the target has some correlation with 'tenure_in_months'. On the other hand, the correlation is a little bit higher for 'total_charges' that for 'monthly_charge', but since the former is highly correlated to 'tenure_in_months', it should be preferred the latter."
   ]
  },
  {
   "cell_type": "markdown",
   "id": "1DZpTQyNqt8Q",
   "metadata": {
    "id": "1DZpTQyNqt8Q"
   },
   "source": [
    "It can be viewed through a clustermap the groups of features that have stronger association."
   ]
  },
  {
   "cell_type": "code",
   "execution_count": null,
   "id": "gIKU8KL47T3J",
   "metadata": {
    "colab": {
     "base_uri": "https://localhost:8080/",
     "height": 775
    },
    "id": "gIKU8KL47T3J",
    "outputId": "cc5f8cbd-c678-46d9-a016-6d45988ed794"
   },
   "outputs": [],
   "source": [
    "sns.clustermap(corr_p, cbar_pos=(-0.05, 0.8, 0.05, 0.18), cmap='coolwarm', center=0)\n",
    "\n",
    "plt.suptitle('df: clustermap', y=1.05)\n",
    "\n",
    "plt.show()"
   ]
  },
  {
   "cell_type": "markdown",
   "id": "CI4o46jssHkF",
   "metadata": {
    "id": "CI4o46jssHkF"
   },
   "source": [
    "As expected, the monetary features are correlated, and the same happens with the population features. Furthermore, 'cltv' is correlated with 'tenure_in_months' and the monetary features, which means that these are probably the features that the company uses for its calculus."
   ]
  },
  {
   "cell_type": "markdown",
   "id": "ef7a3299-1dae-4f7a-8c6d-fbf66a2250e1",
   "metadata": {
    "id": "CqKdPYtZSx1b"
   },
   "source": [
    "## **Bivariate distribution between numerical features and target**"
   ]
  },
  {
   "cell_type": "markdown",
   "id": "p10UyqN13M4e",
   "metadata": {
    "id": "p10UyqN13M4e"
   },
   "source": [
    "Going further, it's possible look at the same kind of bivariate plots used in previous sections ir order to get a clearer understanding of the relations between features and the target. For convenience, the first plot includes numerical features only (those ones from df_status aren't taken in account, since their bivariate distribution against the target has been already studied)."
   ]
  },
  {
   "cell_type": "code",
   "execution_count": null,
   "id": "ifdmsC8xmdBQ",
   "metadata": {
    "colab": {
     "base_uri": "https://localhost:8080/",
     "height": 1000
    },
    "id": "ifdmsC8xmdBQ",
    "outputId": "b8934650-2265-4556-d1e7-15f6c4739f03"
   },
   "outputs": [],
   "source": [
    "cols_num = list(df.drop(\n",
    "    columns=['zip_code', 'satisfaction_score', 'churn_value', 'churn_score', 'cltv']\n",
    "    ).select_dtypes(include=np.number).columns)\n",
    "\n",
    "fig, axes = plt.subplots(nrows=len(cols_num) + 1, ncols=2, \n",
    "                         figsize=(16, (len(cols_num) + 1) * 5), \n",
    "                         sharey='row')\n",
    "\n",
    "plt.suptitle('df_status: bivariate distributions between numerical features and target', \n",
    "             y=0.89)\n",
    "\n",
    "# Countplot for the target in first row\n",
    "\n",
    "sns.countplot(data=df, x='churn_label', ax=axes[0, 1], \n",
    "              order=['Yes', 'No'], palette='Set1')\n",
    "\n",
    "# Histplots for numerical features in first column\n",
    "# Violinplots for bivariate distribution in second colum\n",
    "\n",
    "for i, n in enumerate(cols_num):\n",
    "  sns.kdeplot(data=df, y=n, ax=axes[i + 1, 0], hue='churn_label', \n",
    "              hue_order=['Yes', 'No'], palette='Set1')\n",
    "  sns.violinplot(data=df, x='churn_label', y=n, ax=axes[i + 1, 1], \n",
    "                 order=['Yes', 'No'], palette='Set1')\n",
    "\n",
    "# Since it's not used, first ax is removed\n",
    "\n",
    "axes[0, 0].remove()\n",
    "\n",
    "plt.show()"
   ]
  },
  {
   "cell_type": "markdown",
   "id": "GpbrVFI6X-UN",
   "metadata": {
    "id": "GpbrVFI6X-UN"
   },
   "source": [
    "Together, kdeplots and histplots can help to understand the conditional distribution of numerical features to target. While kdeplots take in account the difference in the frequency distribution of the target (this is, the line for the target category more frequent is higher), violinplots only show the relative distribution. Customers are more likely to churn if:\n",
    "- They have enrolled to the company recently (low tenure).\n",
    "- Their monthly charge is high.\n",
    "- They don't have any dependent. \n",
    "- They haven't given any referral.\n",
    "- They have more than 65.\n",
    "- Customers with low average GB download are very unlikely to churn.\n",
    "\n",
    "Since features that indicate total amounts can be understood as the product of the tenure and some monthly charge, they aren't taken in account for this analysis."
   ]
  },
  {
   "cell_type": "markdown",
   "id": "Dt6GLkBnSpYG",
   "metadata": {
    "id": "Dt6GLkBnSpYG"
   },
   "source": [
    "## **Bivariate distribution between categorical features and target**"
   ]
  },
  {
   "cell_type": "markdown",
   "id": "Y0HmJKCt1qwr",
   "metadata": {
    "id": "Y0HmJKCt1qwr"
   },
   "source": [
    "The same approach can be taken to analyze the relation between categorical features and the target, but the plots recquired are different."
   ]
  },
  {
   "cell_type": "code",
   "execution_count": null,
   "id": "C09PK6OTm-YN",
   "metadata": {
    "colab": {
     "base_uri": "https://localhost:8080/",
     "height": 1000
    },
    "id": "C09PK6OTm-YN",
    "outputId": "a39b0632-1842-440a-82a7-5da3bd2db9e8"
   },
   "outputs": [],
   "source": [
    "cols_cat = cols_cat_demographics + cols_cat_services\n",
    "\n",
    "fig, axes = plt.subplots(nrows=(len(cols_cat) + 3) // 3, ncols=3,\n",
    "                         figsize=(18, ((len(cols_cat) + 3) // 3) * 4))\n",
    "\n",
    "plt.suptitle('df_status: bivariate distributions between categorical features and target', \n",
    "             y=0.92)\n",
    "\n",
    "# Countplots in axes layout\n",
    "\n",
    "sns.countplot(data=df, x='churn_label', ax=axes[0, 0], \n",
    "              order=['Yes', 'No'], palette='Set1')\n",
    "\n",
    "for i, c in enumerate(cols_cat):\n",
    "  sns.countplot(data=df, x=c, hue='churn_label', ax=axes[(i + 1) // 3, (i + 1) % 3], \n",
    "                order=df[c].unique().sort_values(), hue_order=['Yes', 'No'], \n",
    "                palette='Set1')\n",
    "\n",
    "# Axes that are not used are removed\n",
    "\n",
    "axes[4, 1].remove()\n",
    "axes[4, 2].remove()\n",
    "\n",
    "plt.show()"
   ]
  },
  {
   "cell_type": "markdown",
   "id": "khqBQwPYMSYH",
   "metadata": {
    "id": "khqBQwPYMSYH"
   },
   "source": [
    "Customers are more likely to churn if:\n",
    "- They have a month-to-month contract.\n",
    "- They have paperless billing.\n",
    "- They pay by bank withdrawal or mailed check.\n",
    "- They have internet service.\n",
    "- They do not have any dependents.\n",
    "- They haven't referred any friend.\n",
    "- They aren't married.\n",
    "- They are senior citizens.\n",
    "\n",
    "Features 'gender', 'offer', 'phone_service' and 'refunds' do not seem to have important effects on churning.\n"
   ]
  },
  {
   "cell_type": "markdown",
   "id": "OlmEyjmZPYeV",
   "metadata": {
    "id": "OlmEyjmZPYeV"
   },
   "source": [
    "## **Bivariate distribution between sub-services and target**"
   ]
  },
  {
   "cell_type": "markdown",
   "id": "953EKsl7QMuo",
   "metadata": {
    "id": "953EKsl7QMuo"
   },
   "source": [
    "The approach here is the same, but taking in account only the customers that have subscribed the broader service. In the case of 'phone_service':"
   ]
  },
  {
   "cell_type": "code",
   "execution_count": null,
   "id": "sWvbfnZdCjxh",
   "metadata": {
    "colab": {
     "base_uri": "https://localhost:8080/",
     "height": 364
    },
    "id": "sWvbfnZdCjxh",
    "outputId": "f92a9235-6577-490f-a7d3-b2f3b24911eb"
   },
   "outputs": [],
   "source": [
    "fig, axes = plt.subplots(ncols=2, figsize=(12, 5))\n",
    "\n",
    "plt.suptitle('df_status: bivariate distribution between phone sub-service and target', \n",
    "             y=0.95)\n",
    "\n",
    "data = df.query(\"phone_service=='Yes'\")\n",
    "\n",
    "# Countplots in axes layout\n",
    "\n",
    "sns.countplot(data=data, x='churn_label', ax=axes[0], \n",
    "              order=['Yes', 'No'], palette='Set1')\n",
    "\n",
    "sns.countplot(data=data, x='multiple_lines', hue='churn_label', ax=axes[1], \n",
    "                order=data['multiple_lines'].unique().sort_values(), hue_order=['Yes', 'No'], \n",
    "                palette='Set1')\n",
    "\n",
    "plt.show()"
   ]
  },
  {
   "cell_type": "markdown",
   "id": "PNxNJnDCQj9M",
   "metadata": {
    "id": "PNxNJnDCQj9M"
   },
   "source": [
    "Customers that have phone service are more likely to churn if they have multiple lines. It was said before that 'phone_service' does not have important effects on churning, but it must be considered together with 'multiple_lines' to identify those customers that have only one line from those who don't have phone service. Because of this, it makes sense to join them in one feature."
   ]
  },
  {
   "cell_type": "code",
   "execution_count": null,
   "id": "NcvNEjXpVLWz",
   "metadata": {
    "id": "NcvNEjXpVLWz"
   },
   "outputs": [],
   "source": [
    "cond_list = [(df['phone_service'] == 'No'), \n",
    "             (df['phone_service'] == 'Yes') & \n",
    "             (df['multiple_lines'] == 'No'), \n",
    "             (df['multiple_lines'] == 'Yes')]\n",
    "\n",
    "choice_list = ['No', 'One_Line', 'Multiple_Lines']\n",
    "\n",
    "df['phone_service'] = np.select(cond_list, choice_list)\n",
    "\n",
    "df['phone_service'] = pd.Categorical(df['phone_service'])\n",
    "\n",
    "df.drop(columns='multiple_lines', inplace=True)"
   ]
  },
  {
   "cell_type": "markdown",
   "id": "lOWtRFXtacX9",
   "metadata": {
    "id": "lOWtRFXtacX9"
   },
   "source": [
    "In the case of 'internet_services':"
   ]
  },
  {
   "cell_type": "code",
   "execution_count": null,
   "id": "ZpKy7ot01EWp",
   "metadata": {
    "colab": {
     "base_uri": "https://localhost:8080/",
     "height": 983
    },
    "id": "ZpKy7ot01EWp",
    "outputId": "d9c13eb3-fc9b-47c7-c6d2-69a871c18a89"
   },
   "outputs": [],
   "source": [
    "fig, axes = plt.subplots(nrows=(len(cols_cat_internet_services) + 3) // 3, ncols=3,\n",
    "                         figsize=(18, ((len(cols_cat_internet_services) + 3) // 3) * 4))\n",
    "\n",
    "plt.suptitle('df_status: bivariate distributions between internet sub-services and target', \n",
    "             y=0.92)\n",
    "\n",
    "data = df.query(\"internet_service=='Yes'\")\n",
    "\n",
    "# Countplots in axes layout\n",
    "\n",
    "sns.countplot(data=data, x='churn_label', ax=axes[0, 0], \n",
    "              order=['Yes', 'No'], palette='Set1')\n",
    "\n",
    "for i, c in enumerate(cols_cat_internet_services):\n",
    "  sns.countplot(data=data, x=c, hue='churn_label', ax=axes[(i + 1) // 3, (i + 1) % 3], \n",
    "                order=data[c].unique().sort_values(), hue_order=['Yes', 'No'], \n",
    "                palette='Set1')\n",
    "\n",
    "# Axes that are not used are removed\n",
    "\n",
    "axes[3, 1].remove()\n",
    "axes[3, 2].remove()\n",
    "\n",
    "plt.show()"
   ]
  },
  {
   "cell_type": "markdown",
   "id": "V-k0yAA4Qxtf",
   "metadata": {
    "id": "V-k0yAA4Qxtf"
   },
   "source": [
    "Customers that have internet service are more likely to churn if:\n",
    "- The type of their service is Fiber Optic.\n",
    "- They don't have online back-up.\n",
    "- They don't have online security.\n",
    "- They don't have device protection plan.\n",
    "- They don't have premium tech support.\n",
    "\n",
    "Features 'unlimited_data' and those related with streaming do not seem to have important effects on churning."
   ]
  },
  {
   "cell_type": "markdown",
   "id": "35iZEhtVbybk",
   "metadata": {
    "id": "35iZEhtVbybk"
   },
   "source": [
    "Since in this case there are several sub-services, any attempt to construct new features with the combination of cases would increase cardinality. The best choice here seems to be drop 'internet_service', because its 'No' cases are completely overlapped with 'None' cases in 'internet_type'. Despite that for the other internet sub-services, cases in which the customer doesn't have internet service would be mixed with cases in which the customer has internet service but doesn't have the sub-service, an appropriate model that consideres cross effects could fix these issues."
   ]
  },
  {
   "cell_type": "markdown",
   "id": "xLnCvtunS6MR",
   "metadata": {
    "id": "xLnCvtunS6MR"
   },
   "source": [
    "## **Multiple correspondence analysis**"
   ]
  },
  {
   "cell_type": "markdown",
   "id": "l0UnNjcT-l8O",
   "metadata": {
    "id": "l0UnNjcT-l8O"
   },
   "source": [
    "Since the target is categorical, a multiple correspondence analysis can help to find the categories more related to churning. In order to see the effects better and to capture more inertia, only those features than were founded to be related with target are included."
   ]
  },
  {
   "cell_type": "code",
   "execution_count": null,
   "id": "UAn4HMz21BWR",
   "metadata": {
    "colab": {
     "base_uri": "https://localhost:8080/",
     "height": 953
    },
    "id": "UAn4HMz21BWR",
    "outputId": "eda10017-3d82-499a-a18f-e3731b27d80e"
   },
   "outputs": [],
   "source": [
    "cols_mca = ['married', 'dependents', 'age_category', 'referred_a_friend', \n",
    "            'contract', 'paperless_billing', 'payment_method', \n",
    "            'phone_service', 'internet_type', \n",
    "            'online_security', 'online_backup', 'device_protection_plan', \n",
    "            'churn_label']\n",
    "\n",
    "mca = MCA(n_components=len(cols_mca))\n",
    "mca = mca.fit(df[cols_mca])\n",
    "\n",
    "ax = mca.plot_coordinates(\n",
    "     X = df[cols_mca],\n",
    "     ax=None,\n",
    "     figsize=(16, 16),\n",
    "     show_row_points=False,\n",
    "     row_points_size=7,\n",
    "     show_row_labels=False,\n",
    "     show_column_points=True,\n",
    "     column_points_size=40,\n",
    "     show_column_labels=True,\n",
    "     legend_n_cols=1\n",
    "     )"
   ]
  },
  {
   "cell_type": "markdown",
   "id": "xCT_AN5JTD5K",
   "metadata": {
    "id": "xCT_AN5JTD5K"
   },
   "source": [
    "## **Multivariate distribution between target, categorical and numerical features**"
   ]
  },
  {
   "cell_type": "markdown",
   "id": "1fu6kr_3_nev",
   "metadata": {
    "id": "1fu6kr_3_nev"
   },
   "source": [
    "It's possible to go further and study multivariate distribution between the target and groups of numerical and categorical features. Despite it's not realistic to explore all the combinations, it's still useful to do this at least with features that the bivariate analysis has proved to be related with the target."
   ]
  },
  {
   "cell_type": "code",
   "execution_count": null,
   "id": "4JbmLCVL4Tp6",
   "metadata": {
    "colab": {
     "base_uri": "https://localhost:8080/",
     "height": 1000
    },
    "id": "4JbmLCVL4Tp6",
    "outputId": "d62f3f4d-5180-4311-94e2-b73ab4a08f15"
   },
   "outputs": [],
   "source": [
    "sns.relplot(data=df.sample(1000), x='tenure_in_months', y='monthly_charge', \n",
    "            row= 'payment_method', col='contract', hue='churn_label', \n",
    "            hue_order=['Yes', 'No'], kind='scatter', size=3, palette='Set1')\n",
    "\n",
    "plt.suptitle(\"df: multivariate distribution of some features and target\", y=1.05)\n",
    "\n",
    "plt.show()"
   ]
  },
  {
   "cell_type": "markdown",
   "id": "uyIc902ELwH9",
   "metadata": {
    "id": "uyIc902ELwH9"
   },
   "source": [
    "It's clear from the plots that as 'monthly_charge' gets higher and 'tenure_in_months' gets lower, churning is more likely. It's especially true for month-to-month contracts, and for bank withdrawals and mailed check payment methods."
   ]
  },
  {
   "cell_type": "code",
   "execution_count": null,
   "id": "DAczh-XctNUm",
   "metadata": {
    "colab": {
     "base_uri": "https://localhost:8080/",
     "height": 1000
    },
    "id": "DAczh-XctNUm",
    "outputId": "39da4c65-b80f-4e6d-f65c-13d7d748b02a"
   },
   "outputs": [],
   "source": [
    "sns.catplot(data=df.sample(150), x='satisfaction_score', y='dependents', \n",
    "            row='internet_type', col='phone_service', hue='churn_label', \n",
    "            hue_order=['Yes', 'No'], kind='swarm', palette='Set1')\n",
    "\n",
    "plt.suptitle(\"df: multivariate distribution of some features and target\", y=1.02)\n",
    "\n",
    "plt.show()"
   ]
  },
  {
   "cell_type": "markdown",
   "id": "bHosNSO6Bf7h",
   "metadata": {
    "id": "bHosNSO6Bf7h"
   },
   "source": [
    "Similarly, churning is strongly associated with low levels of 'satisfaction_score', especially for Fiber Optic internet service and multiple phone lines."
   ]
  },
  {
   "cell_type": "markdown",
   "id": "jDYB7DuUPaCG",
   "metadata": {
    "id": "jDYB7DuUPaCG"
   },
   "source": [
    "## **Conclusion of Data Curation**"
   ]
  },
  {
   "cell_type": "markdown",
   "id": "btQ-uWv1P2sM",
   "metadata": {
    "id": "btQ-uWv1P2sM"
   },
   "source": [
    "After making a carefully inspection of the relation between the target and the features, the following ones were found to be more relevant:\n",
    "- 'satisfaction_score'\n",
    "- 'tenure_in_months'\n",
    "- 'monthly_charge'\n",
    "- 'avg_monthly_gb_download'\n",
    "- 'contract'\n",
    "- 'payment_method' (dichotomizing depending whether the customer pays with credit card or not)\n",
    "- 'paperless_billing'\n",
    "- 'dependents'\n",
    "- 'referred_a_friend'\n",
    "- 'married'\n",
    "- 'age_category' (dichotomizing depending whether the customer is senior citizen or not)\n",
    "- 'phone_service' (including the 'multiple_lines' sub-service inside this feature)\n",
    "- 'internet_type'\n",
    "- 'online_backup'\n",
    "- 'online_security'\n",
    "- 'device_protection_plan'\n",
    "- 'premium_tech_support'"
   ]
  },
  {
   "cell_type": "markdown",
   "id": "7f6dc2d3-ce30-4554-a852-3669b3a49c6c",
   "metadata": {},
   "source": [
    "Feature 'churn_score' is not included because it's the output of the previous model. Instead, it could be used as a baseline to compare new models."
   ]
  },
  {
   "cell_type": "markdown",
   "id": "7d883d49-2a09-462a-89e9-4657aa943290",
   "metadata": {},
   "source": [
    "Additionally, the analysis made in the last section can enrich the conclusions of the EDA. It can be noted that customers that suscribed to internet sub-services are more likely to churn, with the exception of unlimited data and streaming sub-services. Particularly, the company does not charge any additional fee for streaming (but probably, there are fees charged by the third party provider). This could be an indicator of a bad relation between the quality of premium services and its pricing or, as the geographical analysis suggested, just that in big cities and counties the competence is doing better. Its expectable that the population in that zones has more options to suscribe, and expects better offers at lower prices."
   ]
  }
 ],
 "metadata": {
  "colab": {
   "collapsed_sections": [],
   "name": "telcochurn.ipynb",
   "provenance": [],
   "toc_visible": true
  },
  "kernelspec": {
   "display_name": "Python 3 (ipykernel)",
   "language": "python",
   "name": "python3"
  },
  "language_info": {
   "codemirror_mode": {
    "name": "ipython",
    "version": 3
   },
   "file_extension": ".py",
   "mimetype": "text/x-python",
   "name": "python",
   "nbconvert_exporter": "python",
   "pygments_lexer": "ipython3",
   "version": "3.9.12"
  },
  "toc-autonumbering": false,
  "toc-showcode": false,
  "toc-showmarkdowntxt": false
 },
 "nbformat": 4,
 "nbformat_minor": 5
}
